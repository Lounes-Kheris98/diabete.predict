{
  "cells": [
    {
      "cell_type": "markdown",
      "metadata": {
        "id": "view-in-github",
        "colab_type": "text"
      },
      "source": [
        "<a href=\"https://colab.research.google.com/github/Lounes-Kheris98/diabete.predict/blob/main/Diabetes_predict.ipynb\" target=\"_parent\"><img src=\"https://colab.research.google.com/assets/colab-badge.svg\" alt=\"Open In Colab\"/></a>"
      ]
    },
    {
      "cell_type": "code",
      "execution_count": 615,
      "id": "fea93de1",
      "metadata": {
        "id": "fea93de1"
      },
      "outputs": [],
      "source": [
        "#Partie1:\n",
        "#Utilisation des librairies Pandas + Matplotlib \n",
        "#pour bien comprendre notre Dataset (Lecture et visualisation des données de notre Dataset)"
      ]
    },
    {
      "cell_type": "code",
      "execution_count": 616,
      "id": "e138e350",
      "metadata": {
        "id": "e138e350"
      },
      "outputs": [],
      "source": [
        "import pandas as pd\n",
        "import matplotlib.pyplot as plt\n",
        "import numpy as np"
      ]
    },
    {
      "cell_type": "code",
      "source": [
        "from google.colab import files\n",
        "upload = files.upload()"
      ],
      "metadata": {
        "colab": {
          "resources": {
            "http://localhost:8080/nbextensions/google.colab/files.js": {
              "data": "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",
              "ok": true,
              "headers": [
                [
                  "content-type",
                  "application/javascript"
                ]
              ],
              "status": 200,
              "status_text": "OK"
            }
          },
          "base_uri": "https://localhost:8080/",
          "height": 75
        },
        "id": "wgyYrGAc2I-c",
        "outputId": "7ee3f65a-2dc3-4500-9725-834c2d346205"
      },
      "id": "wgyYrGAc2I-c",
      "execution_count": 617,
      "outputs": [
        {
          "output_type": "display_data",
          "data": {
            "text/html": [
              "\n",
              "     <input type=\"file\" id=\"files-169ea97d-0d72-4218-9968-8c76f7b063a1\" name=\"files[]\" multiple disabled\n",
              "        style=\"border:none\" />\n",
              "     <output id=\"result-169ea97d-0d72-4218-9968-8c76f7b063a1\">\n",
              "      Upload widget is only available when the cell has been executed in the\n",
              "      current browser session. Please rerun this cell to enable.\n",
              "      </output>\n",
              "      <script src=\"/nbextensions/google.colab/files.js\"></script> "
            ],
            "text/plain": [
              "<IPython.core.display.HTML object>"
            ]
          },
          "metadata": {}
        },
        {
          "output_type": "stream",
          "name": "stdout",
          "text": [
            "Saving diabetes75pc_100_times.csv to diabetes75pc_100_times (14).csv\n"
          ]
        }
      ]
    },
    {
      "cell_type": "code",
      "execution_count": 618,
      "id": "90abd708",
      "metadata": {
        "colab": {
          "base_uri": "https://localhost:8080/",
          "height": 424
        },
        "id": "90abd708",
        "outputId": "cf883bb2-d39c-43a4-fb34-df854c3da461"
      },
      "outputs": [
        {
          "output_type": "execute_result",
          "data": {
            "text/html": [
              "<div>\n",
              "<style scoped>\n",
              "    .dataframe tbody tr th:only-of-type {\n",
              "        vertical-align: middle;\n",
              "    }\n",
              "\n",
              "    .dataframe tbody tr th {\n",
              "        vertical-align: top;\n",
              "    }\n",
              "\n",
              "    .dataframe thead th {\n",
              "        text-align: right;\n",
              "    }\n",
              "</style>\n",
              "<table border=\"1\" class=\"dataframe\">\n",
              "  <thead>\n",
              "    <tr style=\"text-align: right;\">\n",
              "      <th></th>\n",
              "      <th>Pregnancies</th>\n",
              "      <th>Glucose</th>\n",
              "      <th>BloodPressure</th>\n",
              "      <th>SkinThickness</th>\n",
              "      <th>Insulin</th>\n",
              "      <th>BMI</th>\n",
              "      <th>DiabetesPedigreeFunction</th>\n",
              "      <th>Age</th>\n",
              "      <th>Outcome</th>\n",
              "    </tr>\n",
              "  </thead>\n",
              "  <tbody>\n",
              "    <tr>\n",
              "      <th>0</th>\n",
              "      <td>4</td>\n",
              "      <td>129</td>\n",
              "      <td>70</td>\n",
              "      <td>18</td>\n",
              "      <td>122</td>\n",
              "      <td>29.43</td>\n",
              "      <td>1.170</td>\n",
              "      <td>45</td>\n",
              "      <td>1</td>\n",
              "    </tr>\n",
              "    <tr>\n",
              "      <th>1</th>\n",
              "      <td>1</td>\n",
              "      <td>205</td>\n",
              "      <td>76</td>\n",
              "      <td>36</td>\n",
              "      <td>249</td>\n",
              "      <td>37.28</td>\n",
              "      <td>0.920</td>\n",
              "      <td>29</td>\n",
              "      <td>1</td>\n",
              "    </tr>\n",
              "    <tr>\n",
              "      <th>2</th>\n",
              "      <td>8</td>\n",
              "      <td>97</td>\n",
              "      <td>82</td>\n",
              "      <td>0</td>\n",
              "      <td>0</td>\n",
              "      <td>37.82</td>\n",
              "      <td>0.590</td>\n",
              "      <td>68</td>\n",
              "      <td>0</td>\n",
              "    </tr>\n",
              "    <tr>\n",
              "      <th>3</th>\n",
              "      <td>7</td>\n",
              "      <td>141</td>\n",
              "      <td>90</td>\n",
              "      <td>41</td>\n",
              "      <td>0</td>\n",
              "      <td>34.25</td>\n",
              "      <td>0.400</td>\n",
              "      <td>39</td>\n",
              "      <td>0</td>\n",
              "    </tr>\n",
              "    <tr>\n",
              "      <th>4</th>\n",
              "      <td>4</td>\n",
              "      <td>120</td>\n",
              "      <td>72</td>\n",
              "      <td>0</td>\n",
              "      <td>0</td>\n",
              "      <td>29.12</td>\n",
              "      <td>0.390</td>\n",
              "      <td>46</td>\n",
              "      <td>1</td>\n",
              "    </tr>\n",
              "    <tr>\n",
              "      <th>...</th>\n",
              "      <td>...</td>\n",
              "      <td>...</td>\n",
              "      <td>...</td>\n",
              "      <td>...</td>\n",
              "      <td>...</td>\n",
              "      <td>...</td>\n",
              "      <td>...</td>\n",
              "      <td>...</td>\n",
              "      <td>...</td>\n",
              "    </tr>\n",
              "    <tr>\n",
              "      <th>995</th>\n",
              "      <td>2</td>\n",
              "      <td>99</td>\n",
              "      <td>68</td>\n",
              "      <td>13</td>\n",
              "      <td>49</td>\n",
              "      <td>22.01</td>\n",
              "      <td>0.680</td>\n",
              "      <td>26</td>\n",
              "      <td>0</td>\n",
              "    </tr>\n",
              "    <tr>\n",
              "      <th>996</th>\n",
              "      <td>6</td>\n",
              "      <td>93</td>\n",
              "      <td>80</td>\n",
              "      <td>0</td>\n",
              "      <td>0</td>\n",
              "      <td>23.84</td>\n",
              "      <td>0.090</td>\n",
              "      <td>32</td>\n",
              "      <td>0</td>\n",
              "    </tr>\n",
              "    <tr>\n",
              "      <th>997</th>\n",
              "      <td>9</td>\n",
              "      <td>94</td>\n",
              "      <td>62</td>\n",
              "      <td>0</td>\n",
              "      <td>0</td>\n",
              "      <td>22.53</td>\n",
              "      <td>0.150</td>\n",
              "      <td>33</td>\n",
              "      <td>0</td>\n",
              "    </tr>\n",
              "    <tr>\n",
              "      <th>998</th>\n",
              "      <td>4</td>\n",
              "      <td>128</td>\n",
              "      <td>70</td>\n",
              "      <td>0</td>\n",
              "      <td>0</td>\n",
              "      <td>34.30</td>\n",
              "      <td>0.303</td>\n",
              "      <td>24</td>\n",
              "      <td>0</td>\n",
              "    </tr>\n",
              "    <tr>\n",
              "      <th>999</th>\n",
              "      <td>5</td>\n",
              "      <td>110</td>\n",
              "      <td>108</td>\n",
              "      <td>37</td>\n",
              "      <td>0</td>\n",
              "      <td>40.09</td>\n",
              "      <td>0.320</td>\n",
              "      <td>65</td>\n",
              "      <td>0</td>\n",
              "    </tr>\n",
              "  </tbody>\n",
              "</table>\n",
              "<p>1000 rows × 9 columns</p>\n",
              "</div>"
            ],
            "text/plain": [
              "     Pregnancies  Glucose  ...  Age  Outcome\n",
              "0              4      129  ...   45        1\n",
              "1              1      205  ...   29        1\n",
              "2              8       97  ...   68        0\n",
              "3              7      141  ...   39        0\n",
              "4              4      120  ...   46        1\n",
              "..           ...      ...  ...  ...      ...\n",
              "995            2       99  ...   26        0\n",
              "996            6       93  ...   32        0\n",
              "997            9       94  ...   33        0\n",
              "998            4      128  ...   24        0\n",
              "999            5      110  ...   65        0\n",
              "\n",
              "[1000 rows x 9 columns]"
            ]
          },
          "metadata": {},
          "execution_count": 618
        }
      ],
      "source": [
        "dataset = pd.read_csv('diabetes75pc_100_times (14).csv')\n",
        "dataset.head(n=1000)"
      ]
    },
    {
      "cell_type": "code",
      "execution_count": 619,
      "id": "77c2a703",
      "metadata": {
        "colab": {
          "base_uri": "https://localhost:8080/"
        },
        "id": "77c2a703",
        "outputId": "9d0d060c-7cd4-4120-ac54-eda30f835e31"
      },
      "outputs": [
        {
          "output_type": "execute_result",
          "data": {
            "text/plain": [
              "(77568, 9)"
            ]
          },
          "metadata": {},
          "execution_count": 619
        }
      ],
      "source": [
        "#Notre Dataset contient 768 ligne et 9 colonnes \n",
        "dataset.shape"
      ]
    },
    {
      "cell_type": "code",
      "execution_count": 620,
      "id": "bf4c1871",
      "metadata": {
        "colab": {
          "base_uri": "https://localhost:8080/",
          "height": 332
        },
        "id": "bf4c1871",
        "outputId": "e94fe473-faf2-4322-ed7f-c7049dcee7b7"
      },
      "outputs": [
        {
          "output_type": "execute_result",
          "data": {
            "text/html": [
              "<div>\n",
              "<style scoped>\n",
              "    .dataframe tbody tr th:only-of-type {\n",
              "        vertical-align: middle;\n",
              "    }\n",
              "\n",
              "    .dataframe tbody tr th {\n",
              "        vertical-align: top;\n",
              "    }\n",
              "\n",
              "    .dataframe thead th {\n",
              "        text-align: right;\n",
              "    }\n",
              "</style>\n",
              "<table border=\"1\" class=\"dataframe\">\n",
              "  <thead>\n",
              "    <tr style=\"text-align: right;\">\n",
              "      <th></th>\n",
              "      <th>count</th>\n",
              "      <th>mean</th>\n",
              "      <th>std</th>\n",
              "      <th>min</th>\n",
              "      <th>25%</th>\n",
              "      <th>50%</th>\n",
              "      <th>75%</th>\n",
              "      <th>max</th>\n",
              "    </tr>\n",
              "  </thead>\n",
              "  <tbody>\n",
              "    <tr>\n",
              "      <th>Pregnancies</th>\n",
              "      <td>77568.0</td>\n",
              "      <td>3.845516</td>\n",
              "      <td>3.369130</td>\n",
              "      <td>0.000</td>\n",
              "      <td>1.00</td>\n",
              "      <td>3.00</td>\n",
              "      <td>6.00</td>\n",
              "      <td>18.00</td>\n",
              "    </tr>\n",
              "    <tr>\n",
              "      <th>Glucose</th>\n",
              "      <td>77568.0</td>\n",
              "      <td>124.884488</td>\n",
              "      <td>33.202236</td>\n",
              "      <td>0.000</td>\n",
              "      <td>102.00</td>\n",
              "      <td>121.00</td>\n",
              "      <td>145.00</td>\n",
              "      <td>213.00</td>\n",
              "    </tr>\n",
              "    <tr>\n",
              "      <th>BloodPressure</th>\n",
              "      <td>77568.0</td>\n",
              "      <td>69.105469</td>\n",
              "      <td>19.343326</td>\n",
              "      <td>0.000</td>\n",
              "      <td>62.00</td>\n",
              "      <td>72.00</td>\n",
              "      <td>80.00</td>\n",
              "      <td>122.00</td>\n",
              "    </tr>\n",
              "    <tr>\n",
              "      <th>SkinThickness</th>\n",
              "      <td>77568.0</td>\n",
              "      <td>20.536458</td>\n",
              "      <td>15.941931</td>\n",
              "      <td>0.000</td>\n",
              "      <td>0.00</td>\n",
              "      <td>23.00</td>\n",
              "      <td>32.00</td>\n",
              "      <td>99.00</td>\n",
              "    </tr>\n",
              "    <tr>\n",
              "      <th>Insulin</th>\n",
              "      <td>77568.0</td>\n",
              "      <td>79.799479</td>\n",
              "      <td>115.169692</td>\n",
              "      <td>0.000</td>\n",
              "      <td>0.00</td>\n",
              "      <td>30.50</td>\n",
              "      <td>127.25</td>\n",
              "      <td>846.00</td>\n",
              "    </tr>\n",
              "    <tr>\n",
              "      <th>BMI</th>\n",
              "      <td>77568.0</td>\n",
              "      <td>33.181591</td>\n",
              "      <td>8.205376</td>\n",
              "      <td>0.000</td>\n",
              "      <td>28.14</td>\n",
              "      <td>33.23</td>\n",
              "      <td>37.91</td>\n",
              "      <td>72.12</td>\n",
              "    </tr>\n",
              "    <tr>\n",
              "      <th>DiabetesPedigreeFunction</th>\n",
              "      <td>77568.0</td>\n",
              "      <td>0.489430</td>\n",
              "      <td>0.343634</td>\n",
              "      <td>0.078</td>\n",
              "      <td>0.25</td>\n",
              "      <td>0.39</td>\n",
              "      <td>0.65</td>\n",
              "      <td>2.60</td>\n",
              "    </tr>\n",
              "    <tr>\n",
              "      <th>Age</th>\n",
              "      <td>77568.0</td>\n",
              "      <td>33.240885</td>\n",
              "      <td>11.752648</td>\n",
              "      <td>21.000</td>\n",
              "      <td>24.00</td>\n",
              "      <td>29.00</td>\n",
              "      <td>41.00</td>\n",
              "      <td>81.00</td>\n",
              "    </tr>\n",
              "    <tr>\n",
              "      <th>Outcome</th>\n",
              "      <td>77568.0</td>\n",
              "      <td>0.348958</td>\n",
              "      <td>0.476644</td>\n",
              "      <td>0.000</td>\n",
              "      <td>0.00</td>\n",
              "      <td>0.00</td>\n",
              "      <td>1.00</td>\n",
              "      <td>1.00</td>\n",
              "    </tr>\n",
              "  </tbody>\n",
              "</table>\n",
              "</div>"
            ],
            "text/plain": [
              "                            count        mean  ...     75%     max\n",
              "Pregnancies               77568.0    3.845516  ...    6.00   18.00\n",
              "Glucose                   77568.0  124.884488  ...  145.00  213.00\n",
              "BloodPressure             77568.0   69.105469  ...   80.00  122.00\n",
              "SkinThickness             77568.0   20.536458  ...   32.00   99.00\n",
              "Insulin                   77568.0   79.799479  ...  127.25  846.00\n",
              "BMI                       77568.0   33.181591  ...   37.91   72.12\n",
              "DiabetesPedigreeFunction  77568.0    0.489430  ...    0.65    2.60\n",
              "Age                       77568.0   33.240885  ...   41.00   81.00\n",
              "Outcome                   77568.0    0.348958  ...    1.00    1.00\n",
              "\n",
              "[9 rows x 8 columns]"
            ]
          },
          "metadata": {},
          "execution_count": 620
        }
      ],
      "source": [
        "#Déscription statistique de notre Dataset\n",
        "dataset.describe().T"
      ]
    },
    {
      "cell_type": "code",
      "execution_count": 621,
      "id": "6e456ae4",
      "metadata": {
        "colab": {
          "base_uri": "https://localhost:8080/"
        },
        "id": "6e456ae4",
        "outputId": "4119d311-844d-4e2a-9b56-a246dadf0afa"
      },
      "outputs": [
        {
          "output_type": "execute_result",
          "data": {
            "text/plain": [
              "0    50500\n",
              "1    27068\n",
              "Name: Outcome, dtype: int64"
            ]
          },
          "metadata": {},
          "execution_count": 621
        }
      ],
      "source": [
        "#On a 268 patients qui sont diabétique et les 500 autres non\n",
        "dataset.Outcome.value_counts()"
      ]
    },
    {
      "cell_type": "code",
      "execution_count": 622,
      "id": "d8e3f09c",
      "metadata": {
        "id": "d8e3f09c"
      },
      "outputs": [],
      "source": [
        "#Partie 2 : Visualisation des données"
      ]
    },
    {
      "cell_type": "code",
      "execution_count": 623,
      "id": "03c69614",
      "metadata": {
        "colab": {
          "base_uri": "https://localhost:8080/",
          "height": 296
        },
        "id": "03c69614",
        "outputId": "b25311e4-9fb6-4b1c-e51c-49244cfb59b5"
      },
      "outputs": [
        {
          "output_type": "execute_result",
          "data": {
            "text/plain": [
              "Text(0, 0.5, 'Count')"
            ]
          },
          "metadata": {},
          "execution_count": 623
        },
        {
          "output_type": "display_data",
          "data": {
            "image/png": "[encoded data removed]",
            "text/plain": [
              "<Figure size 432x288 with 1 Axes>"
            ]
          },
          "metadata": {
            "needs_background": "light"
          }
        }
      ],
      "source": [
        "#Un histogramme qui montre le nombre de personnes diabétique et non-diabétique\n",
        "plt.hist(dataset['Outcome'])\n",
        "plt.xlabel('Outcome')\n",
        "plt.ylabel('Count')"
      ]
    },
    {
      "cell_type": "code",
      "execution_count": 624,
      "id": "46fb85c8",
      "metadata": {
        "colab": {
          "base_uri": "https://localhost:8080/",
          "height": 297
        },
        "id": "46fb85c8",
        "outputId": "263aff26-8513-4b59-e985-cf2faa04a4dd"
      },
      "outputs": [
        {
          "output_type": "execute_result",
          "data": {
            "text/plain": [
              "<matplotlib.legend.Legend at 0x7f30b00fda90>"
            ]
          },
          "metadata": {},
          "execution_count": 624
        },
        {
          "output_type": "display_data",
          "data": {
            "image/png": "[encoded data removed]",
            "text/plain": [
              "<Figure size 432x288 with 1 Axes>"
            ]
          },
          "metadata": {
            "needs_background": "light"
          }
        }
      ],
      "source": [
        "plt.scatter(dataset[dataset.Outcome==1].index,dataset[dataset.Outcome==1].BloodPressure,label=\"Diabétique\",c=\"r\",s=0.1)\n",
        "#plt.scatter(dataset[dataset.Outcome==0].index,dataset[dataset.Outcome==0].BloodPressure,label=\"No Diabétique\",c=\"b\",s=0.2)\n",
        "plt.xlabel(\" nbr_patient\")\n",
        "plt.ylabel(\"BloodPressure\")\n",
        "plt.legend()"
      ]
    },
    {
      "cell_type": "code",
      "execution_count": 625,
      "id": "dbde5001",
      "metadata": {
        "colab": {
          "base_uri": "https://localhost:8080/",
          "height": 1000
        },
        "id": "dbde5001",
        "outputId": "0f2a7920-67d6-4693-cbc4-482ea3f87164"
      },
      "outputs": [
        {
          "output_type": "display_data",
          "data": {
            "image/png": "[encoded data removed]",
            "text/plain": [
              "<Figure size 432x288 with 1 Axes>"
            ]
          },
          "metadata": {
            "needs_background": "light"
          }
        },
        {
          "output_type": "display_data",
          "data": {
            "image/png": "[encoded data removed]",
            "text/plain": [
              "<Figure size 432x288 with 1 Axes>"
            ]
          },
          "metadata": {
            "needs_background": "light"
          }
        },
        {
          "output_type": "display_data",
          "data": {
            "image/png": "[encoded data removed]",
            "text/plain": [
              "<Figure size 432x288 with 1 Axes>"
            ]
          },
          "metadata": {
            "needs_background": "light"
          }
        },
        {
          "output_type": "display_data",
          "data": {
            "image/png": "[encoded data removed]",
            "text/plain": [
              "<Figure size 432x288 with 1 Axes>"
            ]
          },
          "metadata": {
            "needs_background": "light"
          }
        },
        {
          "output_type": "display_data",
          "data": {
            "image/png": "[encoded data removed]",
            "text/plain": [
              "<Figure size 432x288 with 1 Axes>"
            ]
          },
          "metadata": {
            "needs_background": "light"
          }
        },
        {
          "output_type": "display_data",
          "data": {
            "image/png": "[encoded data removed]",
            "text/plain": [
              "<Figure size 432x288 with 1 Axes>"
            ]
          },
          "metadata": {
            "needs_background": "light"
          }
        },
        {
          "output_type": "display_data",
          "data": {
            "image/png": "[encoded data removed]",
            "text/plain": [
              "<Figure size 432x288 with 1 Axes>"
            ]
          },
          "metadata": {
            "needs_background": "light"
          }
        },
        {
          "output_type": "display_data",
          "data": {
            "image/png": "[encoded data removed]",
            "text/plain": [
              "<Figure size 432x288 with 1 Axes>"
            ]
          },
          "metadata": {
            "needs_background": "light"
          }
        },
        {
          "output_type": "display_data",
          "data": {
            "image/png": "[encoded data removed]",
            "text/plain": [
              "<Figure size 432x288 with 1 Axes>"
            ]
          },
          "metadata": {
            "needs_background": "light"
          }
        }
      ],
      "source": [
        "for c in dataset.columns:\n",
        "    plt.figure()\n",
        "    plt.hist(dataset[c],bins=15)\n",
        "    plt.xlabel(c)\n",
        "    plt.ylabel('frequency')\n",
        "    plt.show()"
      ]
    },
    {
      "cell_type": "code",
      "execution_count": 626,
      "id": "be6b08b0",
      "metadata": {
        "id": "be6b08b0"
      },
      "outputs": [],
      "source": [
        "#Partie 3: Data Preprocessing"
      ]
    },
    {
      "cell_type": "code",
      "execution_count": 627,
      "id": "1210f5c3",
      "metadata": {
        "id": "1210f5c3"
      },
      "outputs": [],
      "source": [
        "dataset_new = dataset"
      ]
    },
    {
      "cell_type": "code",
      "source": [
        "replace_list_column = [\"Glucose\", \"BloodPressure\", \"SkinThickness\", \"Insulin\", \"BMI\"]\n",
        "\n",
        "#data_new = dataset\n",
        "#dataset_new[replace_list_column] = dataset[replace_list_column].replace(0, np.NaN)\n",
        "\n",
        "import random\n",
        "replace_min_insulin0 = 16\n",
        "replace_min_glucose0 = dataset_new['Glucose'].min()\n",
        "replace_min_bp0 = dataset_new['BloodPressure'].min()\n",
        "\n",
        "\n",
        "replace_max_insulin0 = 166\n",
        "replace_max_glucose0 = 140\n",
        "replace_max_bp0 = 60\n",
        "\n",
        "\n",
        "replace_min_insulin1 = 170\n",
        "replace_min_glucose1 = 170\n",
        "replace_min_bp1 = dataset_new['BloodPressure'].max()\n",
        "\n",
        "replace_max_insulin1 = 500\n",
        "replace_max_glucose1 = dataset_new['Glucose'].max()\n",
        "replace_max_bp1 = dataset_new['BloodPressure'].max()\n",
        "\n",
        "replace_skin_min = dataset_new['SkinThickness'].min() \n",
        "replace_skin_max = dataset_new['SkinThickness'].max() \n",
        "\n",
        "for col in replace_list_column:\n",
        "    for li in dataset_new.index:\n",
        "        if(dataset_new[\"Outcome\"][li]==0 and dataset_new[col][li]==0):\n",
        "            if(col==\"Insulin\"):\n",
        "              dataset_new[col][li]=random.uniform(replace_min_insulin0, replace_max_insulin0)\n",
        "            if(col==\"Glucose\"):\n",
        "              dataset_new[col][li]=random.uniform(replace_min_glucose0, replace_max_glucose0)\n",
        "            if(col==\"BloodPressure\"):\n",
        "              dataset_new[col][li]=random.uniform(replace_min_bp0, replace_max_bp0)\n",
        "            if(col==\"SkinThickness\"):\n",
        "              dataset_new[col][li]=random.uniform(replace_skin_min, replace_skin_max)\n",
        "\n",
        "        elif(dataset_new[\"Outcome\"][li]==1 and dataset_new[col][li]==0):\n",
        "          if(col==\"Insulin\"):\n",
        "              dataset_new[col][li]=random.uniform(replace_min_insulin1, replace_max_insulin1)\n",
        "          if(col==\"Glucose\"):\n",
        "              dataset_new[col][li]=random.uniform(replace_min_glucose1, replace_max_glucose1)\n",
        "          if(col==\"BloodPressure\"):\n",
        "              dataset_new[col][li]=random.uniform(replace_min_bp1, replace_max_bp1)\n",
        "          if(col==\"SkinThickness\"):\n",
        "              dataset_new[col][li]=random.uniform(replace_skin_min, replace_skin_max)\n",
        "dataset_new"
      ],
      "metadata": {
        "colab": {
          "base_uri": "https://localhost:8080/",
          "height": 1000
        },
        "id": "MZqtRbEXOdYo",
        "outputId": "c4249c2c-cf82-4ac7-ce99-12e9ff086f8f"
      },
      "id": "MZqtRbEXOdYo",
      "execution_count": 628,
      "outputs": [
        {
          "output_type": "stream",
          "name": "stderr",
          "text": [
            "/usr/local/lib/python3.7/dist-packages/ipykernel_launcher.py:34: SettingWithCopyWarning: \n",
            "A value is trying to be set on a copy of a slice from a DataFrame\n",
            "\n",
            "See the caveats in the documentation: https://pandas.pydata.org/pandas-docs/stable/user_guide/indexing.html#returning-a-view-versus-a-copy\n",
            "/usr/local/lib/python3.7/dist-packages/ipykernel_launcher.py:44: SettingWithCopyWarning: \n",
            "A value is trying to be set on a copy of a slice from a DataFrame\n",
            "\n",
            "See the caveats in the documentation: https://pandas.pydata.org/pandas-docs/stable/user_guide/indexing.html#returning-a-view-versus-a-copy\n",
            "/usr/local/lib/python3.7/dist-packages/ipykernel_launcher.py:36: SettingWithCopyWarning: \n",
            "A value is trying to be set on a copy of a slice from a DataFrame\n",
            "\n",
            "See the caveats in the documentation: https://pandas.pydata.org/pandas-docs/stable/user_guide/indexing.html#returning-a-view-versus-a-copy\n",
            "/usr/local/lib/python3.7/dist-packages/ipykernel_launcher.py:46: SettingWithCopyWarning: \n",
            "A value is trying to be set on a copy of a slice from a DataFrame\n",
            "\n",
            "See the caveats in the documentation: https://pandas.pydata.org/pandas-docs/stable/user_guide/indexing.html#returning-a-view-versus-a-copy\n",
            "/usr/local/lib/python3.7/dist-packages/ipykernel_launcher.py:38: SettingWithCopyWarning: \n",
            "A value is trying to be set on a copy of a slice from a DataFrame\n",
            "\n",
            "See the caveats in the documentation: https://pandas.pydata.org/pandas-docs/stable/user_guide/indexing.html#returning-a-view-versus-a-copy\n",
            "/usr/local/lib/python3.7/dist-packages/ipykernel_launcher.py:48: SettingWithCopyWarning: \n",
            "A value is trying to be set on a copy of a slice from a DataFrame\n",
            "\n",
            "See the caveats in the documentation: https://pandas.pydata.org/pandas-docs/stable/user_guide/indexing.html#returning-a-view-versus-a-copy\n",
            "/usr/local/lib/python3.7/dist-packages/ipykernel_launcher.py:32: SettingWithCopyWarning: \n",
            "A value is trying to be set on a copy of a slice from a DataFrame\n",
            "\n",
            "See the caveats in the documentation: https://pandas.pydata.org/pandas-docs/stable/user_guide/indexing.html#returning-a-view-versus-a-copy\n",
            "/usr/local/lib/python3.7/dist-packages/ipykernel_launcher.py:42: SettingWithCopyWarning: \n",
            "A value is trying to be set on a copy of a slice from a DataFrame\n",
            "\n",
            "See the caveats in the documentation: https://pandas.pydata.org/pandas-docs/stable/user_guide/indexing.html#returning-a-view-versus-a-copy\n"
          ]
        },
        {
          "output_type": "execute_result",
          "data": {
            "text/html": [
              "<div>\n",
              "<style scoped>\n",
              "    .dataframe tbody tr th:only-of-type {\n",
              "        vertical-align: middle;\n",
              "    }\n",
              "\n",
              "    .dataframe tbody tr th {\n",
              "        vertical-align: top;\n",
              "    }\n",
              "\n",
              "    .dataframe thead th {\n",
              "        text-align: right;\n",
              "    }\n",
              "</style>\n",
              "<table border=\"1\" class=\"dataframe\">\n",
              "  <thead>\n",
              "    <tr style=\"text-align: right;\">\n",
              "      <th></th>\n",
              "      <th>Pregnancies</th>\n",
              "      <th>Glucose</th>\n",
              "      <th>BloodPressure</th>\n",
              "      <th>SkinThickness</th>\n",
              "      <th>Insulin</th>\n",
              "      <th>BMI</th>\n",
              "      <th>DiabetesPedigreeFunction</th>\n",
              "      <th>Age</th>\n",
              "      <th>Outcome</th>\n",
              "    </tr>\n",
              "  </thead>\n",
              "  <tbody>\n",
              "    <tr>\n",
              "      <th>0</th>\n",
              "      <td>4</td>\n",
              "      <td>129</td>\n",
              "      <td>70</td>\n",
              "      <td>18</td>\n",
              "      <td>122</td>\n",
              "      <td>29.43</td>\n",
              "      <td>1.17</td>\n",
              "      <td>45</td>\n",
              "      <td>1</td>\n",
              "    </tr>\n",
              "    <tr>\n",
              "      <th>1</th>\n",
              "      <td>1</td>\n",
              "      <td>205</td>\n",
              "      <td>76</td>\n",
              "      <td>36</td>\n",
              "      <td>249</td>\n",
              "      <td>37.28</td>\n",
              "      <td>0.92</td>\n",
              "      <td>29</td>\n",
              "      <td>1</td>\n",
              "    </tr>\n",
              "    <tr>\n",
              "      <th>2</th>\n",
              "      <td>8</td>\n",
              "      <td>97</td>\n",
              "      <td>82</td>\n",
              "      <td>1</td>\n",
              "      <td>98</td>\n",
              "      <td>37.82</td>\n",
              "      <td>0.59</td>\n",
              "      <td>68</td>\n",
              "      <td>0</td>\n",
              "    </tr>\n",
              "    <tr>\n",
              "      <th>3</th>\n",
              "      <td>7</td>\n",
              "      <td>141</td>\n",
              "      <td>90</td>\n",
              "      <td>41</td>\n",
              "      <td>115</td>\n",
              "      <td>34.25</td>\n",
              "      <td>0.40</td>\n",
              "      <td>39</td>\n",
              "      <td>0</td>\n",
              "    </tr>\n",
              "    <tr>\n",
              "      <th>4</th>\n",
              "      <td>4</td>\n",
              "      <td>120</td>\n",
              "      <td>72</td>\n",
              "      <td>66</td>\n",
              "      <td>363</td>\n",
              "      <td>29.12</td>\n",
              "      <td>0.39</td>\n",
              "      <td>46</td>\n",
              "      <td>1</td>\n",
              "    </tr>\n",
              "    <tr>\n",
              "      <th>...</th>\n",
              "      <td>...</td>\n",
              "      <td>...</td>\n",
              "      <td>...</td>\n",
              "      <td>...</td>\n",
              "      <td>...</td>\n",
              "      <td>...</td>\n",
              "      <td>...</td>\n",
              "      <td>...</td>\n",
              "      <td>...</td>\n",
              "    </tr>\n",
              "    <tr>\n",
              "      <th>77563</th>\n",
              "      <td>3</td>\n",
              "      <td>91</td>\n",
              "      <td>58</td>\n",
              "      <td>11</td>\n",
              "      <td>54</td>\n",
              "      <td>26.26</td>\n",
              "      <td>0.27</td>\n",
              "      <td>22</td>\n",
              "      <td>0</td>\n",
              "    </tr>\n",
              "    <tr>\n",
              "      <th>77564</th>\n",
              "      <td>2</td>\n",
              "      <td>112</td>\n",
              "      <td>62</td>\n",
              "      <td>32</td>\n",
              "      <td>56</td>\n",
              "      <td>26.40</td>\n",
              "      <td>0.13</td>\n",
              "      <td>21</td>\n",
              "      <td>0</td>\n",
              "    </tr>\n",
              "    <tr>\n",
              "      <th>77565</th>\n",
              "      <td>4</td>\n",
              "      <td>128</td>\n",
              "      <td>68</td>\n",
              "      <td>22</td>\n",
              "      <td>77</td>\n",
              "      <td>36.47</td>\n",
              "      <td>0.40</td>\n",
              "      <td>29</td>\n",
              "      <td>0</td>\n",
              "    </tr>\n",
              "    <tr>\n",
              "      <th>77566</th>\n",
              "      <td>1</td>\n",
              "      <td>101</td>\n",
              "      <td>68</td>\n",
              "      <td>21</td>\n",
              "      <td>41</td>\n",
              "      <td>28.56</td>\n",
              "      <td>1.11</td>\n",
              "      <td>22</td>\n",
              "      <td>0</td>\n",
              "    </tr>\n",
              "    <tr>\n",
              "      <th>77567</th>\n",
              "      <td>9</td>\n",
              "      <td>169</td>\n",
              "      <td>88</td>\n",
              "      <td>86</td>\n",
              "      <td>308</td>\n",
              "      <td>31.13</td>\n",
              "      <td>0.32</td>\n",
              "      <td>49</td>\n",
              "      <td>1</td>\n",
              "    </tr>\n",
              "  </tbody>\n",
              "</table>\n",
              "<p>77568 rows × 9 columns</p>\n",
              "</div>"
            ],
            "text/plain": [
              "       Pregnancies  Glucose  ...  Age  Outcome\n",
              "0                4      129  ...   45        1\n",
              "1                1      205  ...   29        1\n",
              "2                8       97  ...   68        0\n",
              "3                7      141  ...   39        0\n",
              "4                4      120  ...   46        1\n",
              "...            ...      ...  ...  ...      ...\n",
              "77563            3       91  ...   22        0\n",
              "77564            2      112  ...   21        0\n",
              "77565            4      128  ...   29        0\n",
              "77566            1      101  ...   22        0\n",
              "77567            9      169  ...   49        1\n",
              "\n",
              "[77568 rows x 9 columns]"
            ]
          },
          "metadata": {},
          "execution_count": 628
        }
      ]
    },
    {
      "cell_type": "code",
      "source": [
        "print(dataset_new[np.isfinite(dataset_new) == True])"
      ],
      "metadata": {
        "colab": {
          "base_uri": "https://localhost:8080/"
        },
        "id": "Wy4Ecmg4Jawg",
        "outputId": "e5b6de56-bdf7-45cc-cd37-f36b567e5bda"
      },
      "id": "Wy4Ecmg4Jawg",
      "execution_count": 629,
      "outputs": [
        {
          "output_type": "stream",
          "name": "stdout",
          "text": [
            "       Pregnancies  Glucose  ...  Age  Outcome\n",
            "0                4      129  ...   45        1\n",
            "1                1      205  ...   29        1\n",
            "2                8       97  ...   68        0\n",
            "3                7      141  ...   39        0\n",
            "4                4      120  ...   46        1\n",
            "...            ...      ...  ...  ...      ...\n",
            "77563            3       91  ...   22        0\n",
            "77564            2      112  ...   21        0\n",
            "77565            4      128  ...   29        0\n",
            "77566            1      101  ...   22        0\n",
            "77567            9      169  ...   49        1\n",
            "\n",
            "[77568 rows x 9 columns]\n"
          ]
        }
      ]
    },
    {
      "cell_type": "code",
      "execution_count": 630,
      "id": "a047c4aa",
      "metadata": {
        "colab": {
          "base_uri": "https://localhost:8080/",
          "height": 70
        },
        "id": "a047c4aa",
        "outputId": "d053727e-ae75-46e9-bc18-92727f5ad656"
      },
      "outputs": [
        {
          "output_type": "execute_result",
          "data": {
            "application/vnd.google.colaboratory.intrinsic+json": {
              "type": "string"
            },
            "text/plain": [
              "\"\\n\\nfor col in replace_list_column: \\n  max_Insulin = dataset[col].max()\\n  min_Insulin = dataset[col].min()\\n\\n  dataset_new[col] = dataset_new[col].mask(dataset_new[col].isnull(), np.random.uniform(min_Insulin, max_Insulin, size=dataset_new[col].shape))\\n\\n#data_new = data_new.dropna(axis=0, how='any')\\n\\ndataset_new\""
            ]
          },
          "metadata": {},
          "execution_count": 630
        }
      ],
      "source": [
        "replace_list_column = [\"Glucose\", \"BloodPressure\", \"SkinThickness\", \"Insulin\", \"BMI\"]\n",
        "\n",
        "#data_new = dataset\n",
        "#dataset_new[replace_list_column] = dataset[replace_list_column].replace(0, np.NaN)\n",
        "\n",
        "#for i in data.index:\n",
        "#print(data.loc[data['Insulin'].isin([0,2,4])])\n",
        "import random\n",
        "'''\n",
        "\n",
        "for col in replace_list_column: \n",
        "  max_Insulin = dataset[col].max()\n",
        "  min_Insulin = dataset[col].min()\n",
        "\n",
        "  dataset_new[col] = dataset_new[col].mask(dataset_new[col].isnull(), np.random.uniform(min_Insulin, max_Insulin, size=dataset_new[col].shape))\n",
        "\n",
        "#data_new = data_new.dropna(axis=0, how='any')\n",
        "\n",
        "dataset_new'''"
      ]
    },
    {
      "cell_type": "code",
      "source": [
        "'''column = dataset_new['Age']\n",
        "\n",
        "Age = []\n",
        "\n",
        "for i in range(len(column)): \n",
        "  if(column[i] <= 20):\n",
        "    Age.append(1)\n",
        "  elif (column[i]<=40 and column[i]>20):\n",
        "    Age.append(2)\n",
        "  elif (column[i]<=60 and column[i]>40): \n",
        "    Age.append(3)\n",
        "  elif (column[i]<=80 and column[i]>60): \n",
        "    Age.append(4)\n",
        "  else : Age.append(5)\n",
        "\n",
        "dataset_new[\"Age_class\"] = Age\n",
        "dataset_new'''\n",
        "dataset_new"
      ],
      "metadata": {
        "colab": {
          "base_uri": "https://localhost:8080/",
          "height": 424
        },
        "id": "lfNKbXMM3kmd",
        "outputId": "8759cc32-4abd-413c-912d-a343f651e02f"
      },
      "id": "lfNKbXMM3kmd",
      "execution_count": 631,
      "outputs": [
        {
          "output_type": "execute_result",
          "data": {
            "text/html": [
              "<div>\n",
              "<style scoped>\n",
              "    .dataframe tbody tr th:only-of-type {\n",
              "        vertical-align: middle;\n",
              "    }\n",
              "\n",
              "    .dataframe tbody tr th {\n",
              "        vertical-align: top;\n",
              "    }\n",
              "\n",
              "    .dataframe thead th {\n",
              "        text-align: right;\n",
              "    }\n",
              "</style>\n",
              "<table border=\"1\" class=\"dataframe\">\n",
              "  <thead>\n",
              "    <tr style=\"text-align: right;\">\n",
              "      <th></th>\n",
              "      <th>Pregnancies</th>\n",
              "      <th>Glucose</th>\n",
              "      <th>BloodPressure</th>\n",
              "      <th>SkinThickness</th>\n",
              "      <th>Insulin</th>\n",
              "      <th>BMI</th>\n",
              "      <th>DiabetesPedigreeFunction</th>\n",
              "      <th>Age</th>\n",
              "      <th>Outcome</th>\n",
              "    </tr>\n",
              "  </thead>\n",
              "  <tbody>\n",
              "    <tr>\n",
              "      <th>0</th>\n",
              "      <td>4</td>\n",
              "      <td>129</td>\n",
              "      <td>70</td>\n",
              "      <td>18</td>\n",
              "      <td>122</td>\n",
              "      <td>29.43</td>\n",
              "      <td>1.17</td>\n",
              "      <td>45</td>\n",
              "      <td>1</td>\n",
              "    </tr>\n",
              "    <tr>\n",
              "      <th>1</th>\n",
              "      <td>1</td>\n",
              "      <td>205</td>\n",
              "      <td>76</td>\n",
              "      <td>36</td>\n",
              "      <td>249</td>\n",
              "      <td>37.28</td>\n",
              "      <td>0.92</td>\n",
              "      <td>29</td>\n",
              "      <td>1</td>\n",
              "    </tr>\n",
              "    <tr>\n",
              "      <th>2</th>\n",
              "      <td>8</td>\n",
              "      <td>97</td>\n",
              "      <td>82</td>\n",
              "      <td>1</td>\n",
              "      <td>98</td>\n",
              "      <td>37.82</td>\n",
              "      <td>0.59</td>\n",
              "      <td>68</td>\n",
              "      <td>0</td>\n",
              "    </tr>\n",
              "    <tr>\n",
              "      <th>3</th>\n",
              "      <td>7</td>\n",
              "      <td>141</td>\n",
              "      <td>90</td>\n",
              "      <td>41</td>\n",
              "      <td>115</td>\n",
              "      <td>34.25</td>\n",
              "      <td>0.40</td>\n",
              "      <td>39</td>\n",
              "      <td>0</td>\n",
              "    </tr>\n",
              "    <tr>\n",
              "      <th>4</th>\n",
              "      <td>4</td>\n",
              "      <td>120</td>\n",
              "      <td>72</td>\n",
              "      <td>66</td>\n",
              "      <td>363</td>\n",
              "      <td>29.12</td>\n",
              "      <td>0.39</td>\n",
              "      <td>46</td>\n",
              "      <td>1</td>\n",
              "    </tr>\n",
              "    <tr>\n",
              "      <th>...</th>\n",
              "      <td>...</td>\n",
              "      <td>...</td>\n",
              "      <td>...</td>\n",
              "      <td>...</td>\n",
              "      <td>...</td>\n",
              "      <td>...</td>\n",
              "      <td>...</td>\n",
              "      <td>...</td>\n",
              "      <td>...</td>\n",
              "    </tr>\n",
              "    <tr>\n",
              "      <th>77563</th>\n",
              "      <td>3</td>\n",
              "      <td>91</td>\n",
              "      <td>58</td>\n",
              "      <td>11</td>\n",
              "      <td>54</td>\n",
              "      <td>26.26</td>\n",
              "      <td>0.27</td>\n",
              "      <td>22</td>\n",
              "      <td>0</td>\n",
              "    </tr>\n",
              "    <tr>\n",
              "      <th>77564</th>\n",
              "      <td>2</td>\n",
              "      <td>112</td>\n",
              "      <td>62</td>\n",
              "      <td>32</td>\n",
              "      <td>56</td>\n",
              "      <td>26.40</td>\n",
              "      <td>0.13</td>\n",
              "      <td>21</td>\n",
              "      <td>0</td>\n",
              "    </tr>\n",
              "    <tr>\n",
              "      <th>77565</th>\n",
              "      <td>4</td>\n",
              "      <td>128</td>\n",
              "      <td>68</td>\n",
              "      <td>22</td>\n",
              "      <td>77</td>\n",
              "      <td>36.47</td>\n",
              "      <td>0.40</td>\n",
              "      <td>29</td>\n",
              "      <td>0</td>\n",
              "    </tr>\n",
              "    <tr>\n",
              "      <th>77566</th>\n",
              "      <td>1</td>\n",
              "      <td>101</td>\n",
              "      <td>68</td>\n",
              "      <td>21</td>\n",
              "      <td>41</td>\n",
              "      <td>28.56</td>\n",
              "      <td>1.11</td>\n",
              "      <td>22</td>\n",
              "      <td>0</td>\n",
              "    </tr>\n",
              "    <tr>\n",
              "      <th>77567</th>\n",
              "      <td>9</td>\n",
              "      <td>169</td>\n",
              "      <td>88</td>\n",
              "      <td>86</td>\n",
              "      <td>308</td>\n",
              "      <td>31.13</td>\n",
              "      <td>0.32</td>\n",
              "      <td>49</td>\n",
              "      <td>1</td>\n",
              "    </tr>\n",
              "  </tbody>\n",
              "</table>\n",
              "<p>77568 rows × 9 columns</p>\n",
              "</div>"
            ],
            "text/plain": [
              "       Pregnancies  Glucose  ...  Age  Outcome\n",
              "0                4      129  ...   45        1\n",
              "1                1      205  ...   29        1\n",
              "2                8       97  ...   68        0\n",
              "3                7      141  ...   39        0\n",
              "4                4      120  ...   46        1\n",
              "...            ...      ...  ...  ...      ...\n",
              "77563            3       91  ...   22        0\n",
              "77564            2      112  ...   21        0\n",
              "77565            4      128  ...   29        0\n",
              "77566            1      101  ...   22        0\n",
              "77567            9      169  ...   49        1\n",
              "\n",
              "[77568 rows x 9 columns]"
            ]
          },
          "metadata": {},
          "execution_count": 631
        }
      ]
    },
    {
      "cell_type": "code",
      "source": [
        "import seaborn as sns\n",
        "def plot_corr(df,size=11): \n",
        "    \"\"\"\n",
        "    Function plots a graphical correlation matrix for each pair of columns in the dataframe.\n",
        "\n",
        "    Input:\n",
        "        df: pandas DataFrame\n",
        "        size: vertical and horizontal size of the plot\n",
        "\n",
        "    Displays:\n",
        "        matrix of correlation between columns.  Yellow means that they are highly correlated.\n",
        "                                           \n",
        "    \"\"\"\n",
        "    '''corr = df.corr() # calling the correlation function on the datafrmae\n",
        "    fig, ax = plt.subplots(figsize=(size,size))\n",
        "    ax.matshow(corr) # color code the rectangles by correlation value\n",
        "    plt.xticks(range(len(corr.columns)),corr.columns) # draw x tickmarks\n",
        "    plt.yticks(range(len(corr.columns)),corr.columns) # draw y tickmarks\n",
        "    '''\n",
        "    f, ax = plt.subplots(figsize= [20,15])\n",
        "    sns.heatmap(df.corr(), annot=True, fmt=\".2f\", ax=ax, cmap = \"magma\" )\n",
        "    ax.set_title(\"Correlation Matrix\", fontsize=20)\n",
        "\n",
        "plot_corr(dataset_new)"
      ],
      "metadata": {
        "colab": {
          "base_uri": "https://localhost:8080/",
          "height": 884
        },
        "id": "4yTjG107mO5K",
        "outputId": "108e9b11-9841-46f3-bede-95b9178cfd73"
      },
      "id": "4yTjG107mO5K",
      "execution_count": 632,
      "outputs": [
        {
          "output_type": "display_data",
          "data": {
            "image/png": "[encoded data removed]",
            "text/plain": [
              "<Figure size 1440x1080 with 2 Axes>"
            ]
          },
          "metadata": {
            "needs_background": "light"
          }
        }
      ]
    },
    {
      "cell_type": "code",
      "execution_count": 656,
      "id": "463f7874",
      "metadata": {
        "colab": {
          "base_uri": "https://localhost:8080/",
          "height": 296
        },
        "id": "463f7874",
        "outputId": "0f6a53f7-92c4-4e90-d0ce-e8b9c04fe55d"
      },
      "outputs": [
        {
          "output_type": "execute_result",
          "data": {
            "text/plain": [
              "<matplotlib.legend.Legend at 0x7f30b12f59d0>"
            ]
          },
          "metadata": {},
          "execution_count": 656
        },
        {
          "output_type": "display_data",
          "data": {
            "image/png": "[encoded data removed]",
            "text/plain": [
              "<Figure size 432x288 with 1 Axes>"
            ]
          },
          "metadata": {
            "needs_background": "light"
          }
        }
      ],
      "source": [
        "plt.scatter(dataset_new[dataset_new.Outcome==1].index,dataset_new[dataset_new.Outcome==1].Insulin,label=\"Diabétique\",c=\"r\",s=0.2)\n",
        "#plt.scatter(dataset_new[dataset_new.Outcome==0].Age_class,dataset_new[dataset_new.Outcome==0].Insulin,label=\"No Diabétique\",c=\"b\",s=0.2)\n",
        "y = 166\n",
        "plt.scatter(0,y)\n",
        "plt.xlabel(\"Age\")\n",
        "plt.ylabel(\"Insulin\")\n",
        "plt.legend()\n"
      ]
    },
    {
      "cell_type": "code",
      "source": [
        "dataset_new"
      ],
      "metadata": {
        "colab": {
          "base_uri": "https://localhost:8080/",
          "height": 424
        },
        "id": "0-GtS8USbZFz",
        "outputId": "7abe6c5d-6881-46a2-b82e-603e3c8dc58e"
      },
      "id": "0-GtS8USbZFz",
      "execution_count": 657,
      "outputs": [
        {
          "output_type": "execute_result",
          "data": {
            "text/html": [
              "<div>\n",
              "<style scoped>\n",
              "    .dataframe tbody tr th:only-of-type {\n",
              "        vertical-align: middle;\n",
              "    }\n",
              "\n",
              "    .dataframe tbody tr th {\n",
              "        vertical-align: top;\n",
              "    }\n",
              "\n",
              "    .dataframe thead th {\n",
              "        text-align: right;\n",
              "    }\n",
              "</style>\n",
              "<table border=\"1\" class=\"dataframe\">\n",
              "  <thead>\n",
              "    <tr style=\"text-align: right;\">\n",
              "      <th></th>\n",
              "      <th>Pregnancies</th>\n",
              "      <th>Glucose</th>\n",
              "      <th>BloodPressure</th>\n",
              "      <th>SkinThickness</th>\n",
              "      <th>Insulin</th>\n",
              "      <th>BMI</th>\n",
              "      <th>DiabetesPedigreeFunction</th>\n",
              "      <th>Age</th>\n",
              "      <th>Outcome</th>\n",
              "    </tr>\n",
              "  </thead>\n",
              "  <tbody>\n",
              "    <tr>\n",
              "      <th>0</th>\n",
              "      <td>4</td>\n",
              "      <td>129</td>\n",
              "      <td>70</td>\n",
              "      <td>18</td>\n",
              "      <td>122</td>\n",
              "      <td>29.43</td>\n",
              "      <td>1.17</td>\n",
              "      <td>45</td>\n",
              "      <td>1</td>\n",
              "    </tr>\n",
              "    <tr>\n",
              "      <th>1</th>\n",
              "      <td>1</td>\n",
              "      <td>205</td>\n",
              "      <td>76</td>\n",
              "      <td>36</td>\n",
              "      <td>249</td>\n",
              "      <td>37.28</td>\n",
              "      <td>0.92</td>\n",
              "      <td>29</td>\n",
              "      <td>1</td>\n",
              "    </tr>\n",
              "    <tr>\n",
              "      <th>2</th>\n",
              "      <td>8</td>\n",
              "      <td>97</td>\n",
              "      <td>82</td>\n",
              "      <td>1</td>\n",
              "      <td>98</td>\n",
              "      <td>37.82</td>\n",
              "      <td>0.59</td>\n",
              "      <td>68</td>\n",
              "      <td>0</td>\n",
              "    </tr>\n",
              "    <tr>\n",
              "      <th>3</th>\n",
              "      <td>7</td>\n",
              "      <td>141</td>\n",
              "      <td>90</td>\n",
              "      <td>41</td>\n",
              "      <td>115</td>\n",
              "      <td>34.25</td>\n",
              "      <td>0.40</td>\n",
              "      <td>39</td>\n",
              "      <td>0</td>\n",
              "    </tr>\n",
              "    <tr>\n",
              "      <th>4</th>\n",
              "      <td>4</td>\n",
              "      <td>120</td>\n",
              "      <td>72</td>\n",
              "      <td>66</td>\n",
              "      <td>363</td>\n",
              "      <td>29.12</td>\n",
              "      <td>0.39</td>\n",
              "      <td>46</td>\n",
              "      <td>1</td>\n",
              "    </tr>\n",
              "    <tr>\n",
              "      <th>...</th>\n",
              "      <td>...</td>\n",
              "      <td>...</td>\n",
              "      <td>...</td>\n",
              "      <td>...</td>\n",
              "      <td>...</td>\n",
              "      <td>...</td>\n",
              "      <td>...</td>\n",
              "      <td>...</td>\n",
              "      <td>...</td>\n",
              "    </tr>\n",
              "    <tr>\n",
              "      <th>77563</th>\n",
              "      <td>3</td>\n",
              "      <td>91</td>\n",
              "      <td>58</td>\n",
              "      <td>11</td>\n",
              "      <td>54</td>\n",
              "      <td>26.26</td>\n",
              "      <td>0.27</td>\n",
              "      <td>22</td>\n",
              "      <td>0</td>\n",
              "    </tr>\n",
              "    <tr>\n",
              "      <th>77564</th>\n",
              "      <td>2</td>\n",
              "      <td>112</td>\n",
              "      <td>62</td>\n",
              "      <td>32</td>\n",
              "      <td>56</td>\n",
              "      <td>26.40</td>\n",
              "      <td>0.13</td>\n",
              "      <td>21</td>\n",
              "      <td>0</td>\n",
              "    </tr>\n",
              "    <tr>\n",
              "      <th>77565</th>\n",
              "      <td>4</td>\n",
              "      <td>128</td>\n",
              "      <td>68</td>\n",
              "      <td>22</td>\n",
              "      <td>77</td>\n",
              "      <td>36.47</td>\n",
              "      <td>0.40</td>\n",
              "      <td>29</td>\n",
              "      <td>0</td>\n",
              "    </tr>\n",
              "    <tr>\n",
              "      <th>77566</th>\n",
              "      <td>1</td>\n",
              "      <td>101</td>\n",
              "      <td>68</td>\n",
              "      <td>21</td>\n",
              "      <td>41</td>\n",
              "      <td>28.56</td>\n",
              "      <td>1.11</td>\n",
              "      <td>22</td>\n",
              "      <td>0</td>\n",
              "    </tr>\n",
              "    <tr>\n",
              "      <th>77567</th>\n",
              "      <td>9</td>\n",
              "      <td>169</td>\n",
              "      <td>88</td>\n",
              "      <td>86</td>\n",
              "      <td>308</td>\n",
              "      <td>31.13</td>\n",
              "      <td>0.32</td>\n",
              "      <td>49</td>\n",
              "      <td>1</td>\n",
              "    </tr>\n",
              "  </tbody>\n",
              "</table>\n",
              "<p>77568 rows × 9 columns</p>\n",
              "</div>"
            ],
            "text/plain": [
              "       Pregnancies  Glucose  ...  Age  Outcome\n",
              "0                4      129  ...   45        1\n",
              "1                1      205  ...   29        1\n",
              "2                8       97  ...   68        0\n",
              "3                7      141  ...   39        0\n",
              "4                4      120  ...   46        1\n",
              "...            ...      ...  ...  ...      ...\n",
              "77563            3       91  ...   22        0\n",
              "77564            2      112  ...   21        0\n",
              "77565            4      128  ...   29        0\n",
              "77566            1      101  ...   22        0\n",
              "77567            9      169  ...   49        1\n",
              "\n",
              "[77568 rows x 9 columns]"
            ]
          },
          "metadata": {},
          "execution_count": 657
        }
      ]
    },
    {
      "cell_type": "code",
      "execution_count": 678,
      "id": "5991256c",
      "metadata": {
        "id": "5991256c",
        "colab": {
          "base_uri": "https://localhost:8080/"
        },
        "outputId": "cf730067-b489-46d5-c508-88ceb4e841f8"
      },
      "outputs": [
        {
          "output_type": "execute_result",
          "data": {
            "text/plain": [
              "array([1, 1, 0, ..., 0, 0, 1])"
            ]
          },
          "metadata": {},
          "execution_count": 678
        }
      ],
      "source": [
        "# Selecting features - [Glucose, Insulin, BMI, Age]\n",
        "X = dataset_new.iloc[:, [1,2,3,4,5,6,7]].values\n",
        "Y = dataset_new.iloc[:, 8].values\n",
        "\n",
        "Y"
      ]
    },
    {
      "cell_type": "code",
      "execution_count": 679,
      "id": "3ed88786",
      "metadata": {
        "id": "3ed88786",
        "colab": {
          "base_uri": "https://localhost:8080/"
        },
        "outputId": "4962ac83-e66e-4e71-9165-26f5d43fefcf"
      },
      "outputs": [
        {
          "output_type": "execute_result",
          "data": {
            "text/plain": [
              "array([[165.  ,  78.  ,  26.  , ...,  34.  ,   0.84,  31.  ],\n",
              "       [150.  ,  68.  ,  29.  , ...,  29.79,   0.37,  42.  ],\n",
              "       [134.  ,  58.  ,  20.  , ...,  27.45,   0.36,  21.  ],\n",
              "       ...,\n",
              "       [141.  , 122.  ,  83.  , ...,  35.18,   0.32,  23.  ],\n",
              "       [ 68.  ,  72.  ,  23.  , ...,  33.6 ,   0.62,  42.  ],\n",
              "       [100.  ,  66.  ,  15.  , ...,  23.24,   0.5 ,  22.  ]])"
            ]
          },
          "metadata": {},
          "execution_count": 679
        }
      ],
      "source": [
        "import sklearn\n",
        "\n",
        "from sklearn.model_selection import train_test_split \n",
        "x_train,x_test,y_train,y_test= train_test_split(X,Y,test_size=0.3)\n",
        "\n",
        "x_train"
      ]
    },
    {
      "cell_type": "code",
      "source": [
        "y_test"
      ],
      "metadata": {
        "colab": {
          "base_uri": "https://localhost:8080/"
        },
        "id": "BxaTuiIsFo-J",
        "outputId": "5638c771-19a0-4106-c63a-1f57c6376120"
      },
      "id": "BxaTuiIsFo-J",
      "execution_count": 680,
      "outputs": [
        {
          "output_type": "execute_result",
          "data": {
            "text/plain": [
              "array([1, 0, 1, ..., 0, 0, 1])"
            ]
          },
          "metadata": {},
          "execution_count": 680
        }
      ]
    },
    {
      "cell_type": "markdown",
      "source": [
        ""
      ],
      "metadata": {
        "id": "nm6xeEVMTgMm"
      },
      "id": "nm6xeEVMTgMm"
    },
    {
      "cell_type": "code",
      "execution_count": 681,
      "id": "20466a78",
      "metadata": {
        "colab": {
          "base_uri": "https://localhost:8080/"
        },
        "id": "20466a78",
        "outputId": "c576daba-c2a6-46d9-c33e-043e6a10e24c"
      },
      "outputs": [
        {
          "output_type": "stream",
          "name": "stdout",
          "text": [
            "X_train shape: (54297, 7)\n",
            "X_test shape: (23271, 7)\n",
            "Y_train shape: (54297,)\n",
            "Y_test shape: (23271,)\n"
          ]
        }
      ],
      "source": [
        "# Checking dimensions\n",
        "print(\"X_train shape:\", x_train.shape)\n",
        "print(\"X_test shape:\", x_test.shape)\n",
        "print(\"Y_train shape:\", y_train.shape)\n",
        "print(\"Y_test shape:\", y_test.shape)\n"
      ]
    },
    {
      "cell_type": "code",
      "source": [
        "x_train"
      ],
      "metadata": {
        "colab": {
          "base_uri": "https://localhost:8080/"
        },
        "id": "60jt8KyFThmb",
        "outputId": "41064c5c-00cd-4407-d117-099d8468d1a6"
      },
      "id": "60jt8KyFThmb",
      "execution_count": 682,
      "outputs": [
        {
          "output_type": "execute_result",
          "data": {
            "text/plain": [
              "array([[165.  ,  78.  ,  26.  , ...,  34.  ,   0.84,  31.  ],\n",
              "       [150.  ,  68.  ,  29.  , ...,  29.79,   0.37,  42.  ],\n",
              "       [134.  ,  58.  ,  20.  , ...,  27.45,   0.36,  21.  ],\n",
              "       ...,\n",
              "       [141.  , 122.  ,  83.  , ...,  35.18,   0.32,  23.  ],\n",
              "       [ 68.  ,  72.  ,  23.  , ...,  33.6 ,   0.62,  42.  ],\n",
              "       [100.  ,  66.  ,  15.  , ...,  23.24,   0.5 ,  22.  ]])"
            ]
          },
          "metadata": {},
          "execution_count": 682
        }
      ]
    },
    {
      "cell_type": "code",
      "execution_count": 683,
      "id": "929ba4ad",
      "metadata": {
        "colab": {
          "base_uri": "https://localhost:8080/"
        },
        "id": "929ba4ad",
        "outputId": "a85e9773-d19d-4d32-e251-e619131671f6"
      },
      "outputs": [
        {
          "output_type": "stream",
          "name": "stdout",
          "text": [
            "Meilleur(s) hyperparamètre(s) sur le jeu d'entraînement:\n",
            "{'n_neighbors': 1}\n",
            "Résultats de la validation croisée :\n",
            "accuracy = 0.997 (+/-0.002) for {'n_neighbors': 1}\n",
            "accuracy = 0.995 (+/-0.001) for {'n_neighbors': 3}\n",
            "accuracy = 0.993 (+/-0.001) for {'n_neighbors': 5}\n",
            "accuracy = 0.990 (+/-0.001) for {'n_neighbors': 7}\n",
            "accuracy = 0.988 (+/-0.001) for {'n_neighbors': 9}\n",
            "accuracy = 0.985 (+/-0.001) for {'n_neighbors': 11}\n",
            "accuracy = 0.983 (+/-0.001) for {'n_neighbors': 13}\n",
            "accuracy = 0.981 (+/-0.001) for {'n_neighbors': 15}\n",
            "accuracy = 0.979 (+/-0.002) for {'n_neighbors': 17}\n",
            "accuracy = 0.977 (+/-0.001) for {'n_neighbors': 19}\n",
            "accuracy = 0.976 (+/-0.001) for {'n_neighbors': 21}\n",
            "accuracy = 0.974 (+/-0.001) for {'n_neighbors': 23}\n",
            "accuracy = 0.973 (+/-0.001) for {'n_neighbors': 25}\n",
            "accuracy = 0.972 (+/-0.001) for {'n_neighbors': 27}\n",
            "accuracy = 0.971 (+/-0.002) for {'n_neighbors': 29}\n",
            "accuracy = 0.969 (+/-0.002) for {'n_neighbors': 31}\n",
            "accuracy = 0.969 (+/-0.002) for {'n_neighbors': 33}\n",
            "accuracy = 0.968 (+/-0.003) for {'n_neighbors': 35}\n",
            "accuracy = 0.967 (+/-0.002) for {'n_neighbors': 37}\n",
            "accuracy = 0.966 (+/-0.003) for {'n_neighbors': 39}\n",
            "accuracy = 0.965 (+/-0.003) for {'n_neighbors': 41}\n",
            "accuracy = 0.965 (+/-0.003) for {'n_neighbors': 43}\n",
            "accuracy = 0.964 (+/-0.003) for {'n_neighbors': 45}\n",
            "accuracy = 0.963 (+/-0.003) for {'n_neighbors': 47}\n",
            "accuracy = 0.963 (+/-0.003) for {'n_neighbors': 49}\n"
          ]
        }
      ],
      "source": [
        "from sklearn import model_selection\n",
        "from sklearn import neighbors, metrics\n",
        "\n",
        "# Fixer les valeurs des hyperparamètres à tester\n",
        "param_grid = {'n_neighbors':[i for i in range(1,50,2)]}\n",
        "#x = range(1,31)\n",
        "# Choisir un score à optimiser, ici l'accuracy (proportion de prédictions correctes)\n",
        "score = 'accuracy'\n",
        "\n",
        "# Créer un classifieur kNN avec recherche d'hyperparamètre par validation croisée\n",
        "clf = model_selection.GridSearchCV(\n",
        "    neighbors.KNeighborsClassifier(), # un classifieur kNN\n",
        "    param_grid,     # hyperparamètres à tester\n",
        "    cv=3,           # nombre de folds de validation croisée\n",
        "    scoring=score   # score à optimiser\n",
        ")\n",
        "\n",
        "# Optimiser ce classifieur sur le jeu d'entraînement\n",
        "clf.fit(x_train, y_train)\n",
        "\n",
        "# Afficher le(s) hyperparamètre(s) optimaux\n",
        "print(\"Meilleur(s) hyperparamètre(s) sur le jeu d'entraînement:\")\n",
        "print(clf.best_params_)\n",
        "\n",
        "# Afficher les performances correspondantes\n",
        "print(\"Résultats de la validation croisée :\")\n",
        "for mean, std, params in zip(\n",
        "        clf.cv_results_['mean_test_score'], # score moyen\n",
        "        clf.cv_results_['std_test_score'],  # écart-type du score\n",
        "        clf.cv_results_['params'],\n",
        "         # valeur de l'hyperparamètre\n",
        "    ):\n",
        "\n",
        "    print(\"{} = {:.3f} (+/-{:.03f}) for {}\".format(\n",
        "        score,\n",
        "        mean,\n",
        "        std*2,\n",
        "        params,\n",
        "    ) )\n",
        "\n"
      ]
    },
    {
      "cell_type": "code",
      "execution_count": 684,
      "id": "22d3aa58",
      "metadata": {
        "id": "22d3aa58",
        "colab": {
          "base_uri": "https://localhost:8080/"
        },
        "outputId": "84604a18-0795-4771-cc46-0c06cb5edd62"
      },
      "outputs": [
        {
          "output_type": "execute_result",
          "data": {
            "text/plain": [
              "KNeighborsClassifier()"
            ]
          },
          "metadata": {},
          "execution_count": 684
        }
      ],
      "source": [
        "from sklearn.neighbors import KNeighborsClassifier\n",
        "\n",
        "knn = KNeighborsClassifier(n_neighbors = 5)\n",
        "knn.fit(x_train, y_train)"
      ]
    },
    {
      "cell_type": "code",
      "source": [
        "y_pred = knn.predict(x_test)"
      ],
      "metadata": {
        "id": "bQ12bFhmMuxX"
      },
      "id": "bQ12bFhmMuxX",
      "execution_count": 685,
      "outputs": []
    },
    {
      "cell_type": "code",
      "source": [
        "y_pred"
      ],
      "metadata": {
        "id": "WIcaF8zxMyG3",
        "colab": {
          "base_uri": "https://localhost:8080/"
        },
        "outputId": "5b7accbe-303e-4739-8029-242310a5eae7"
      },
      "id": "WIcaF8zxMyG3",
      "execution_count": 686,
      "outputs": [
        {
          "output_type": "execute_result",
          "data": {
            "text/plain": [
              "array([1, 0, 1, ..., 0, 0, 1])"
            ]
          },
          "metadata": {},
          "execution_count": 686
        }
      ]
    },
    {
      "cell_type": "code",
      "source": [
        "y_test"
      ],
      "metadata": {
        "id": "4-pILYYCzV_3",
        "colab": {
          "base_uri": "https://localhost:8080/"
        },
        "outputId": "c55dccf7-2ea4-40c7-e90f-8fb671b9123d"
      },
      "id": "4-pILYYCzV_3",
      "execution_count": 687,
      "outputs": [
        {
          "output_type": "execute_result",
          "data": {
            "text/plain": [
              "array([1, 0, 1, ..., 0, 0, 1])"
            ]
          },
          "metadata": {},
          "execution_count": 687
        }
      ]
    },
    {
      "cell_type": "code",
      "source": [
        "metrics.accuracy_score(y_test, y_pred)"
      ],
      "metadata": {
        "id": "FbiqsfdeN1XT",
        "colab": {
          "base_uri": "https://localhost:8080/"
        },
        "outputId": "ce56b6bb-4dff-408c-cdd1-89e7a4b07d17"
      },
      "id": "FbiqsfdeN1XT",
      "execution_count": 688,
      "outputs": [
        {
          "output_type": "execute_result",
          "data": {
            "text/plain": [
              "0.994886339220489"
            ]
          },
          "metadata": {},
          "execution_count": 688
        }
      ]
    },
    {
      "cell_type": "code",
      "execution_count": 689,
      "id": "5eca59c9",
      "metadata": {
        "id": "5eca59c9",
        "colab": {
          "base_uri": "https://localhost:8080/"
        },
        "outputId": "900a9257-81f6-489f-ba33-83a3cad5e2e3"
      },
      "outputs": [
        {
          "output_type": "execute_result",
          "data": {
            "text/plain": [
              "119"
            ]
          },
          "metadata": {},
          "execution_count": 689
        }
      ],
      "source": [
        "cpt = 0\n",
        "for i in range(len(y_pred)):\n",
        "  if y_pred[i] != y_test[i]:\n",
        "    cpt +=1\n",
        "\n",
        "cpt"
      ]
    },
    {
      "cell_type": "code",
      "source": [
        "x_test.shape"
      ],
      "metadata": {
        "id": "AoHOtcTOtLkr",
        "colab": {
          "base_uri": "https://localhost:8080/"
        },
        "outputId": "9c200bc3-6d79-4bff-cc40-ff7bdc2d7f72"
      },
      "id": "AoHOtcTOtLkr",
      "execution_count": 690,
      "outputs": [
        {
          "output_type": "execute_result",
          "data": {
            "text/plain": [
              "(23271, 7)"
            ]
          },
          "metadata": {},
          "execution_count": 690
        }
      ]
    },
    {
      "cell_type": "code",
      "execution_count": 691,
      "id": "105ba78d",
      "metadata": {
        "id": "105ba78d",
        "colab": {
          "base_uri": "https://localhost:8080/"
        },
        "outputId": "10d71322-39ba-4b71-ff15-b096e2dcc917"
      },
      "outputs": [
        {
          "output_type": "execute_result",
          "data": {
            "text/plain": [
              "0.005113660779510979"
            ]
          },
          "metadata": {},
          "execution_count": 691
        }
      ],
      "source": [
        "rate = cpt / y_test.shape[0]\n",
        "rate"
      ]
    },
    {
      "cell_type": "code",
      "source": [
        "y_pred"
      ],
      "metadata": {
        "id": "ItURU8gltsEG",
        "colab": {
          "base_uri": "https://localhost:8080/"
        },
        "outputId": "13e2f67a-ee44-4762-b9f7-8105b1bf1dc3"
      },
      "id": "ItURU8gltsEG",
      "execution_count": 692,
      "outputs": [
        {
          "output_type": "execute_result",
          "data": {
            "text/plain": [
              "array([1, 0, 1, ..., 0, 0, 1])"
            ]
          },
          "metadata": {},
          "execution_count": 692
        }
      ]
    },
    {
      "cell_type": "code",
      "source": [
        "y_test"
      ],
      "metadata": {
        "id": "WTMpzMEDtsPw",
        "colab": {
          "base_uri": "https://localhost:8080/"
        },
        "outputId": "5f99c27f-ae71-457c-9519-13f784189a85"
      },
      "id": "WTMpzMEDtsPw",
      "execution_count": 693,
      "outputs": [
        {
          "output_type": "execute_result",
          "data": {
            "text/plain": [
              "array([1, 0, 1, ..., 0, 0, 1])"
            ]
          },
          "metadata": {},
          "execution_count": 693
        }
      ]
    },
    {
      "cell_type": "code",
      "source": [
        "def perf_measure(y_actual, y_pred):\n",
        "    TP = 0\n",
        "    FP = 0\n",
        "    TN = 0\n",
        "    FN = 0\n",
        "\n",
        "    for i in range(len(y_pred)): \n",
        "      if y_actual[i]==y_pred[i]==1:\n",
        "         TP += 1\n",
        "      if y_pred[i]==1 and y_actual[i]!=y_pred[i]:\n",
        "         FP += 1\n",
        "      if y_actual[i]==y_pred[i]==0:\n",
        "         TN += 1\n",
        "      if y_pred[i]==0 and y_actual[i]!=y_pred[i]:\n",
        "         FN += 1\n",
        "\n",
        "    return(TP, FP, TN, FN)\n",
        "\n",
        "TP,FP,TN,FN = perf_measure(y_test, y_pred)\n",
        "\n",
        "precision = TP/(TP+FP)\n",
        "recall = TP/(TP+FN)\n",
        "\n",
        "(precision, recall)"
      ],
      "metadata": {
        "id": "v7Sfv4b8h81-",
        "colab": {
          "base_uri": "https://localhost:8080/"
        },
        "outputId": "2b861595-aa7d-4980-e3f4-da5108d2984b"
      },
      "id": "v7Sfv4b8h81-",
      "execution_count": 694,
      "outputs": [
        {
          "output_type": "execute_result",
          "data": {
            "text/plain": [
              "(0.9933057448880234, 0.9922188449848024)"
            ]
          },
          "metadata": {},
          "execution_count": 694
        }
      ]
    },
    {
      "cell_type": "code",
      "source": [
        "y_pred1 = knn.predict(x_train)"
      ],
      "metadata": {
        "id": "fbTZ_zk9DMGd"
      },
      "id": "fbTZ_zk9DMGd",
      "execution_count": 695,
      "outputs": []
    }
  ],
  "metadata": {
    "kernelspec": {
      "display_name": "Python 3",
      "language": "python",
      "name": "python3"
    },
    "language_info": {
      "codemirror_mode": {
        "name": "ipython",
        "version": 3
      },
      "file_extension": ".py",
      "mimetype": "text/x-python",
      "name": "python",
      "nbconvert_exporter": "python",
      "pygments_lexer": "ipython3",
      "version": "3.8.8"
    },
    "colab": {
      "name": "code.ipynb",
      "provenance": [],
      "collapsed_sections": [],
      "include_colab_link": true
    }
  },
  "nbformat": 4,
  "nbformat_minor": 5
}