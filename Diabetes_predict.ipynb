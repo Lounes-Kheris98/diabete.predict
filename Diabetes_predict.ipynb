{
  "nbformat": 4,
  "nbformat_minor": 0,
  "metadata": {
    "colab": {
      "name": "Copy of Untitled6.ipynb",
      "provenance": [],
      "collapsed_sections": [],
      "authorship_tag": "ABX9TyMRqCbQMJ1rGAp3AkghcD+1",
      "include_colab_link": true
    },
    "kernelspec": {
      "name": "python3",
      "display_name": "Python 3"
    },
    "language_info": {
      "name": "python"
    }
  },
  "cells": [
    {
      "cell_type": "markdown",
      "metadata": {
        "id": "view-in-github",
        "colab_type": "text"
      },
      "source": [
        "<a href=\"https://colab.research.google.com/github/Lounes-Kheris98/diabete.predict/blob/main/Diabetes_predict.ipynb\" target=\"_parent\"><img src=\"https://colab.research.google.com/assets/colab-badge.svg\" alt=\"Open In Colab\"/></a>"
      ]
    },
    {
      "cell_type": "code",
      "metadata": {
        "id": "gCEqD3as6VOT"
      },
      "source": [
        "import numpy as np \n",
        "import pandas as pd\n",
        "import seaborn as sns\n",
        "from sklearn.model_selection import train_test_split\n",
        "from sklearn.preprocessing import StandardScaler\n",
        "import matplotlib.pyplot as plt"
      ],
      "execution_count": null,
      "outputs": []
    },
    {
      "cell_type": "code",
      "metadata": {
        "colab": {
          "resources": {
            "http://localhost:8080/nbextensions/google.colab/files.js": {
              "data": "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",
              "ok": true,
              "headers": [
                [
                  "content-type",
                  "application/javascript"
                ]
              ],
              "status": 200,
              "status_text": "OK"
            }
          },
          "base_uri": "https://localhost:8080/",
          "height": 75
        },
        "id": "GA4Wel0Q6ZnW",
        "outputId": "421e46a7-094d-406e-92d1-a696a4c06247"
      },
      "source": [
        "def read_data(filename):\n",
        "    df = pd.read_csv(filename)\n",
        "    return df\n",
        "\n",
        "from google.colab import files\n",
        "upload = files.upload()"
      ],
      "execution_count": null,
      "outputs": [
        {
          "output_type": "display_data",
          "data": {
            "text/html": [
              "\n",
              "     <input type=\"file\" id=\"files-c993ea06-e06a-4fa8-9224-a034ee454533\" name=\"files[]\" multiple disabled\n",
              "        style=\"border:none\" />\n",
              "     <output id=\"result-c993ea06-e06a-4fa8-9224-a034ee454533\">\n",
              "      Upload widget is only available when the cell has been executed in the\n",
              "      current browser session. Please rerun this cell to enable.\n",
              "      </output>\n",
              "      <script src=\"/nbextensions/google.colab/files.js\"></script> "
            ],
            "text/plain": [
              "<IPython.core.display.HTML object>"
            ]
          },
          "metadata": {}
        },
        {
          "output_type": "stream",
          "name": "stdout",
          "text": [
            "Saving diabetes75pc_100_times.csv to diabetes75pc_100_times (9).csv\n"
          ]
        }
      ]
    },
    {
      "cell_type": "code",
      "metadata": {
        "colab": {
          "base_uri": "https://localhost:8080/",
          "height": 206
        },
        "id": "7AkzzVGTN3EF",
        "outputId": "c8e7dea9-1472-47cd-9d75-6ff74b6a0c66"
      },
      "source": [
        "def read_data(filename):\n",
        "    df = pd.read_csv(filename)\n",
        "    return df\n",
        "\n",
        "data = read_data(\"diabetes75pc_100_times.csv\")\n",
        "\n",
        "data.head()"
      ],
      "execution_count": null,
      "outputs": [
        {
          "output_type": "execute_result",
          "data": {
            "text/html": [
              "<div>\n",
              "<style scoped>\n",
              "    .dataframe tbody tr th:only-of-type {\n",
              "        vertical-align: middle;\n",
              "    }\n",
              "\n",
              "    .dataframe tbody tr th {\n",
              "        vertical-align: top;\n",
              "    }\n",
              "\n",
              "    .dataframe thead th {\n",
              "        text-align: right;\n",
              "    }\n",
              "</style>\n",
              "<table border=\"1\" class=\"dataframe\">\n",
              "  <thead>\n",
              "    <tr style=\"text-align: right;\">\n",
              "      <th></th>\n",
              "      <th>Pregnancies</th>\n",
              "      <th>Glucose</th>\n",
              "      <th>BloodPressure</th>\n",
              "      <th>SkinThickness</th>\n",
              "      <th>Insulin</th>\n",
              "      <th>BMI</th>\n",
              "      <th>DiabetesPedigreeFunction</th>\n",
              "      <th>Age</th>\n",
              "      <th>Outcome</th>\n",
              "    </tr>\n",
              "  </thead>\n",
              "  <tbody>\n",
              "    <tr>\n",
              "      <th>0</th>\n",
              "      <td>4</td>\n",
              "      <td>129</td>\n",
              "      <td>70</td>\n",
              "      <td>18</td>\n",
              "      <td>122</td>\n",
              "      <td>29.43</td>\n",
              "      <td>1.17</td>\n",
              "      <td>45</td>\n",
              "      <td>1</td>\n",
              "    </tr>\n",
              "    <tr>\n",
              "      <th>1</th>\n",
              "      <td>1</td>\n",
              "      <td>205</td>\n",
              "      <td>76</td>\n",
              "      <td>36</td>\n",
              "      <td>249</td>\n",
              "      <td>37.28</td>\n",
              "      <td>0.92</td>\n",
              "      <td>29</td>\n",
              "      <td>1</td>\n",
              "    </tr>\n",
              "    <tr>\n",
              "      <th>2</th>\n",
              "      <td>8</td>\n",
              "      <td>97</td>\n",
              "      <td>82</td>\n",
              "      <td>0</td>\n",
              "      <td>0</td>\n",
              "      <td>37.82</td>\n",
              "      <td>0.59</td>\n",
              "      <td>68</td>\n",
              "      <td>0</td>\n",
              "    </tr>\n",
              "    <tr>\n",
              "      <th>3</th>\n",
              "      <td>7</td>\n",
              "      <td>141</td>\n",
              "      <td>90</td>\n",
              "      <td>41</td>\n",
              "      <td>0</td>\n",
              "      <td>34.25</td>\n",
              "      <td>0.40</td>\n",
              "      <td>39</td>\n",
              "      <td>0</td>\n",
              "    </tr>\n",
              "    <tr>\n",
              "      <th>4</th>\n",
              "      <td>4</td>\n",
              "      <td>120</td>\n",
              "      <td>72</td>\n",
              "      <td>0</td>\n",
              "      <td>0</td>\n",
              "      <td>29.12</td>\n",
              "      <td>0.39</td>\n",
              "      <td>46</td>\n",
              "      <td>1</td>\n",
              "    </tr>\n",
              "  </tbody>\n",
              "</table>\n",
              "</div>"
            ],
            "text/plain": [
              "   Pregnancies  Glucose  BloodPressure  ...  DiabetesPedigreeFunction  Age  Outcome\n",
              "0            4      129             70  ...                      1.17   45        1\n",
              "1            1      205             76  ...                      0.92   29        1\n",
              "2            8       97             82  ...                      0.59   68        0\n",
              "3            7      141             90  ...                      0.40   39        0\n",
              "4            4      120             72  ...                      0.39   46        1\n",
              "\n",
              "[5 rows x 9 columns]"
            ]
          },
          "metadata": {},
          "execution_count": 708
        }
      ]
    },
    {
      "cell_type": "code",
      "metadata": {
        "id": "tCqtSt96nOV8"
      },
      "source": [
        ""
      ],
      "execution_count": null,
      "outputs": []
    },
    {
      "cell_type": "code",
      "metadata": {
        "colab": {
          "base_uri": "https://localhost:8080/"
        },
        "id": "gN1s97LZQrWO",
        "outputId": "8a2d6fdf-f482-4564-8016-f9e175cd4379"
      },
      "source": [
        "# Dataset dimensions - (rows, columns)\n",
        "data.shape"
      ],
      "execution_count": null,
      "outputs": [
        {
          "output_type": "execute_result",
          "data": {
            "text/plain": [
              "(77568, 9)"
            ]
          },
          "metadata": {},
          "execution_count": 709
        }
      ]
    },
    {
      "cell_type": "code",
      "metadata": {
        "colab": {
          "base_uri": "https://localhost:8080/"
        },
        "id": "hH6Miz9SQ4sJ",
        "outputId": "8b15adba-3008-4d6c-e181-9a683defb6f9"
      },
      "source": [
        "# Features data-type\n",
        "data.info()"
      ],
      "execution_count": null,
      "outputs": [
        {
          "output_type": "stream",
          "name": "stdout",
          "text": [
            "<class 'pandas.core.frame.DataFrame'>\n",
            "RangeIndex: 77568 entries, 0 to 77567\n",
            "Data columns (total 9 columns):\n",
            " #   Column                    Non-Null Count  Dtype  \n",
            "---  ------                    --------------  -----  \n",
            " 0   Pregnancies               77568 non-null  int64  \n",
            " 1   Glucose                   77568 non-null  int64  \n",
            " 2   BloodPressure             77568 non-null  int64  \n",
            " 3   SkinThickness             77568 non-null  int64  \n",
            " 4   Insulin                   77568 non-null  int64  \n",
            " 5   BMI                       77568 non-null  float64\n",
            " 6   DiabetesPedigreeFunction  77568 non-null  float64\n",
            " 7   Age                       77568 non-null  int64  \n",
            " 8   Outcome                   77568 non-null  int64  \n",
            "dtypes: float64(2), int64(7)\n",
            "memory usage: 5.3 MB\n"
          ]
        }
      ]
    },
    {
      "cell_type": "code",
      "metadata": {
        "colab": {
          "base_uri": "https://localhost:8080/",
          "height": 332
        },
        "id": "IfXaIkUERGXj",
        "outputId": "46f7f695-2baf-4271-ad40-0b3f2fc085b7"
      },
      "source": [
        "# Statistical summary\n",
        "data.describe().T"
      ],
      "execution_count": null,
      "outputs": [
        {
          "output_type": "execute_result",
          "data": {
            "text/html": [
              "<div>\n",
              "<style scoped>\n",
              "    .dataframe tbody tr th:only-of-type {\n",
              "        vertical-align: middle;\n",
              "    }\n",
              "\n",
              "    .dataframe tbody tr th {\n",
              "        vertical-align: top;\n",
              "    }\n",
              "\n",
              "    .dataframe thead th {\n",
              "        text-align: right;\n",
              "    }\n",
              "</style>\n",
              "<table border=\"1\" class=\"dataframe\">\n",
              "  <thead>\n",
              "    <tr style=\"text-align: right;\">\n",
              "      <th></th>\n",
              "      <th>count</th>\n",
              "      <th>mean</th>\n",
              "      <th>std</th>\n",
              "      <th>min</th>\n",
              "      <th>25%</th>\n",
              "      <th>50%</th>\n",
              "      <th>75%</th>\n",
              "      <th>max</th>\n",
              "    </tr>\n",
              "  </thead>\n",
              "  <tbody>\n",
              "    <tr>\n",
              "      <th>Pregnancies</th>\n",
              "      <td>77568.0</td>\n",
              "      <td>3.845516</td>\n",
              "      <td>3.369130</td>\n",
              "      <td>0.000</td>\n",
              "      <td>1.00</td>\n",
              "      <td>3.00</td>\n",
              "      <td>6.00</td>\n",
              "      <td>18.00</td>\n",
              "    </tr>\n",
              "    <tr>\n",
              "      <th>Glucose</th>\n",
              "      <td>77568.0</td>\n",
              "      <td>124.884488</td>\n",
              "      <td>33.202236</td>\n",
              "      <td>0.000</td>\n",
              "      <td>102.00</td>\n",
              "      <td>121.00</td>\n",
              "      <td>145.00</td>\n",
              "      <td>213.00</td>\n",
              "    </tr>\n",
              "    <tr>\n",
              "      <th>BloodPressure</th>\n",
              "      <td>77568.0</td>\n",
              "      <td>69.105469</td>\n",
              "      <td>19.343326</td>\n",
              "      <td>0.000</td>\n",
              "      <td>62.00</td>\n",
              "      <td>72.00</td>\n",
              "      <td>80.00</td>\n",
              "      <td>122.00</td>\n",
              "    </tr>\n",
              "    <tr>\n",
              "      <th>SkinThickness</th>\n",
              "      <td>77568.0</td>\n",
              "      <td>20.536458</td>\n",
              "      <td>15.941931</td>\n",
              "      <td>0.000</td>\n",
              "      <td>0.00</td>\n",
              "      <td>23.00</td>\n",
              "      <td>32.00</td>\n",
              "      <td>99.00</td>\n",
              "    </tr>\n",
              "    <tr>\n",
              "      <th>Insulin</th>\n",
              "      <td>77568.0</td>\n",
              "      <td>79.799479</td>\n",
              "      <td>115.169692</td>\n",
              "      <td>0.000</td>\n",
              "      <td>0.00</td>\n",
              "      <td>30.50</td>\n",
              "      <td>127.25</td>\n",
              "      <td>846.00</td>\n",
              "    </tr>\n",
              "    <tr>\n",
              "      <th>BMI</th>\n",
              "      <td>77568.0</td>\n",
              "      <td>33.181591</td>\n",
              "      <td>8.205376</td>\n",
              "      <td>0.000</td>\n",
              "      <td>28.14</td>\n",
              "      <td>33.23</td>\n",
              "      <td>37.91</td>\n",
              "      <td>72.12</td>\n",
              "    </tr>\n",
              "    <tr>\n",
              "      <th>DiabetesPedigreeFunction</th>\n",
              "      <td>77568.0</td>\n",
              "      <td>0.489430</td>\n",
              "      <td>0.343634</td>\n",
              "      <td>0.078</td>\n",
              "      <td>0.25</td>\n",
              "      <td>0.39</td>\n",
              "      <td>0.65</td>\n",
              "      <td>2.60</td>\n",
              "    </tr>\n",
              "    <tr>\n",
              "      <th>Age</th>\n",
              "      <td>77568.0</td>\n",
              "      <td>33.240885</td>\n",
              "      <td>11.752648</td>\n",
              "      <td>21.000</td>\n",
              "      <td>24.00</td>\n",
              "      <td>29.00</td>\n",
              "      <td>41.00</td>\n",
              "      <td>81.00</td>\n",
              "    </tr>\n",
              "    <tr>\n",
              "      <th>Outcome</th>\n",
              "      <td>77568.0</td>\n",
              "      <td>0.348958</td>\n",
              "      <td>0.476644</td>\n",
              "      <td>0.000</td>\n",
              "      <td>0.00</td>\n",
              "      <td>0.00</td>\n",
              "      <td>1.00</td>\n",
              "      <td>1.00</td>\n",
              "    </tr>\n",
              "  </tbody>\n",
              "</table>\n",
              "</div>"
            ],
            "text/plain": [
              "                            count        mean  ...     75%     max\n",
              "Pregnancies               77568.0    3.845516  ...    6.00   18.00\n",
              "Glucose                   77568.0  124.884488  ...  145.00  213.00\n",
              "BloodPressure             77568.0   69.105469  ...   80.00  122.00\n",
              "SkinThickness             77568.0   20.536458  ...   32.00   99.00\n",
              "Insulin                   77568.0   79.799479  ...  127.25  846.00\n",
              "BMI                       77568.0   33.181591  ...   37.91   72.12\n",
              "DiabetesPedigreeFunction  77568.0    0.489430  ...    0.65    2.60\n",
              "Age                       77568.0   33.240885  ...   41.00   81.00\n",
              "Outcome                   77568.0    0.348958  ...    1.00    1.00\n",
              "\n",
              "[9 rows x 8 columns]"
            ]
          },
          "metadata": {},
          "execution_count": 711
        }
      ]
    },
    {
      "cell_type": "code",
      "metadata": {
        "colab": {
          "base_uri": "https://localhost:8080/",
          "height": 332
        },
        "id": "psETONlgSapS",
        "outputId": "b6189abf-4033-4dbc-8b77-f830296ea237"
      },
      "source": [
        "#statistics description of the data\n",
        "data.describe([0.10,0.25,0.5,0.75,0.9,0.95,0.99]).T\n"
      ],
      "execution_count": null,
      "outputs": [
        {
          "output_type": "execute_result",
          "data": {
            "text/html": [
              "<div>\n",
              "<style scoped>\n",
              "    .dataframe tbody tr th:only-of-type {\n",
              "        vertical-align: middle;\n",
              "    }\n",
              "\n",
              "    .dataframe tbody tr th {\n",
              "        vertical-align: top;\n",
              "    }\n",
              "\n",
              "    .dataframe thead th {\n",
              "        text-align: right;\n",
              "    }\n",
              "</style>\n",
              "<table border=\"1\" class=\"dataframe\">\n",
              "  <thead>\n",
              "    <tr style=\"text-align: right;\">\n",
              "      <th></th>\n",
              "      <th>count</th>\n",
              "      <th>mean</th>\n",
              "      <th>std</th>\n",
              "      <th>min</th>\n",
              "      <th>10%</th>\n",
              "      <th>25%</th>\n",
              "      <th>50%</th>\n",
              "      <th>75%</th>\n",
              "      <th>90%</th>\n",
              "      <th>95%</th>\n",
              "      <th>99%</th>\n",
              "      <th>max</th>\n",
              "    </tr>\n",
              "  </thead>\n",
              "  <tbody>\n",
              "    <tr>\n",
              "      <th>Pregnancies</th>\n",
              "      <td>77568.0</td>\n",
              "      <td>3.845516</td>\n",
              "      <td>3.369130</td>\n",
              "      <td>0.000</td>\n",
              "      <td>0.000</td>\n",
              "      <td>1.00</td>\n",
              "      <td>3.00</td>\n",
              "      <td>6.00</td>\n",
              "      <td>9.00</td>\n",
              "      <td>10.00</td>\n",
              "      <td>13.0000</td>\n",
              "      <td>18.00</td>\n",
              "    </tr>\n",
              "    <tr>\n",
              "      <th>Glucose</th>\n",
              "      <td>77568.0</td>\n",
              "      <td>124.884488</td>\n",
              "      <td>33.202236</td>\n",
              "      <td>0.000</td>\n",
              "      <td>88.000</td>\n",
              "      <td>102.00</td>\n",
              "      <td>121.00</td>\n",
              "      <td>145.00</td>\n",
              "      <td>173.00</td>\n",
              "      <td>188.00</td>\n",
              "      <td>203.0000</td>\n",
              "      <td>213.00</td>\n",
              "    </tr>\n",
              "    <tr>\n",
              "      <th>BloodPressure</th>\n",
              "      <td>77568.0</td>\n",
              "      <td>69.105469</td>\n",
              "      <td>19.343326</td>\n",
              "      <td>0.000</td>\n",
              "      <td>54.000</td>\n",
              "      <td>62.00</td>\n",
              "      <td>72.00</td>\n",
              "      <td>80.00</td>\n",
              "      <td>88.00</td>\n",
              "      <td>90.00</td>\n",
              "      <td>106.0000</td>\n",
              "      <td>122.00</td>\n",
              "    </tr>\n",
              "    <tr>\n",
              "      <th>SkinThickness</th>\n",
              "      <td>77568.0</td>\n",
              "      <td>20.536458</td>\n",
              "      <td>15.941931</td>\n",
              "      <td>0.000</td>\n",
              "      <td>0.000</td>\n",
              "      <td>0.00</td>\n",
              "      <td>23.00</td>\n",
              "      <td>32.00</td>\n",
              "      <td>40.00</td>\n",
              "      <td>44.00</td>\n",
              "      <td>52.0000</td>\n",
              "      <td>99.00</td>\n",
              "    </tr>\n",
              "    <tr>\n",
              "      <th>Insulin</th>\n",
              "      <td>77568.0</td>\n",
              "      <td>79.799479</td>\n",
              "      <td>115.169692</td>\n",
              "      <td>0.000</td>\n",
              "      <td>0.000</td>\n",
              "      <td>0.00</td>\n",
              "      <td>30.50</td>\n",
              "      <td>127.25</td>\n",
              "      <td>210.00</td>\n",
              "      <td>293.00</td>\n",
              "      <td>540.0000</td>\n",
              "      <td>846.00</td>\n",
              "    </tr>\n",
              "    <tr>\n",
              "      <th>BMI</th>\n",
              "      <td>77568.0</td>\n",
              "      <td>33.181591</td>\n",
              "      <td>8.205376</td>\n",
              "      <td>0.000</td>\n",
              "      <td>24.417</td>\n",
              "      <td>28.14</td>\n",
              "      <td>33.23</td>\n",
              "      <td>37.91</td>\n",
              "      <td>43.12</td>\n",
              "      <td>46.19</td>\n",
              "      <td>53.1733</td>\n",
              "      <td>72.12</td>\n",
              "    </tr>\n",
              "    <tr>\n",
              "      <th>DiabetesPedigreeFunction</th>\n",
              "      <td>77568.0</td>\n",
              "      <td>0.489430</td>\n",
              "      <td>0.343634</td>\n",
              "      <td>0.078</td>\n",
              "      <td>0.170</td>\n",
              "      <td>0.25</td>\n",
              "      <td>0.39</td>\n",
              "      <td>0.65</td>\n",
              "      <td>0.91</td>\n",
              "      <td>1.17</td>\n",
              "      <td>1.7600</td>\n",
              "      <td>2.60</td>\n",
              "    </tr>\n",
              "    <tr>\n",
              "      <th>Age</th>\n",
              "      <td>77568.0</td>\n",
              "      <td>33.240885</td>\n",
              "      <td>11.752648</td>\n",
              "      <td>21.000</td>\n",
              "      <td>22.000</td>\n",
              "      <td>24.00</td>\n",
              "      <td>29.00</td>\n",
              "      <td>41.00</td>\n",
              "      <td>51.00</td>\n",
              "      <td>58.00</td>\n",
              "      <td>67.0000</td>\n",
              "      <td>81.00</td>\n",
              "    </tr>\n",
              "    <tr>\n",
              "      <th>Outcome</th>\n",
              "      <td>77568.0</td>\n",
              "      <td>0.348958</td>\n",
              "      <td>0.476644</td>\n",
              "      <td>0.000</td>\n",
              "      <td>0.000</td>\n",
              "      <td>0.00</td>\n",
              "      <td>0.00</td>\n",
              "      <td>1.00</td>\n",
              "      <td>1.00</td>\n",
              "      <td>1.00</td>\n",
              "      <td>1.0000</td>\n",
              "      <td>1.00</td>\n",
              "    </tr>\n",
              "  </tbody>\n",
              "</table>\n",
              "</div>"
            ],
            "text/plain": [
              "                            count        mean  ...       99%     max\n",
              "Pregnancies               77568.0    3.845516  ...   13.0000   18.00\n",
              "Glucose                   77568.0  124.884488  ...  203.0000  213.00\n",
              "BloodPressure             77568.0   69.105469  ...  106.0000  122.00\n",
              "SkinThickness             77568.0   20.536458  ...   52.0000   99.00\n",
              "Insulin                   77568.0   79.799479  ...  540.0000  846.00\n",
              "BMI                       77568.0   33.181591  ...   53.1733   72.12\n",
              "DiabetesPedigreeFunction  77568.0    0.489430  ...    1.7600    2.60\n",
              "Age                       77568.0   33.240885  ...   67.0000   81.00\n",
              "Outcome                   77568.0    0.348958  ...    1.0000    1.00\n",
              "\n",
              "[9 rows x 12 columns]"
            ]
          },
          "metadata": {},
          "execution_count": 712
        }
      ]
    },
    {
      "cell_type": "code",
      "metadata": {
        "colab": {
          "base_uri": "https://localhost:8080/"
        },
        "id": "lbLk5UxjRGhO",
        "outputId": "52236525-b393-4f49-dd91-15fdc6abafff"
      },
      "source": [
        "# Count of null values\n",
        "data.isnull().sum()"
      ],
      "execution_count": null,
      "outputs": [
        {
          "output_type": "execute_result",
          "data": {
            "text/plain": [
              "Pregnancies                 0\n",
              "Glucose                     0\n",
              "BloodPressure               0\n",
              "SkinThickness               0\n",
              "Insulin                     0\n",
              "BMI                         0\n",
              "DiabetesPedigreeFunction    0\n",
              "Age                         0\n",
              "Outcome                     0\n",
              "dtype: int64"
            ]
          },
          "metadata": {},
          "execution_count": 713
        }
      ]
    },
    {
      "cell_type": "code",
      "metadata": {
        "colab": {
          "base_uri": "https://localhost:8080/",
          "height": 568
        },
        "id": "MNj46G_GRwo0",
        "outputId": "d477b445-1774-434f-a881-59d892329764"
      },
      "source": [
        "# The distribution of the outcome variable in the data was examined and visualized.\n",
        "f,ax=plt.subplots(1,2,figsize=(18,8))\n",
        "data['Outcome'].value_counts().plot.pie(explode=[0,0.1],autopct='%1.1f%%',ax=ax[0],shadow=True)\n",
        "ax[0].set_title('target')\n",
        "ax[0].set_ylabel('')\n",
        "sns.countplot('Outcome',data=data,ax=ax[1])\n",
        "ax[1].set_title('Outcome')\n",
        "plt.show()"
      ],
      "execution_count": null,
      "outputs": [
        {
          "output_type": "stream",
          "name": "stderr",
          "text": [
            "/usr/local/lib/python3.7/dist-packages/seaborn/_decorators.py:43: FutureWarning: Pass the following variable as a keyword arg: x. From version 0.12, the only valid positional argument will be `data`, and passing other arguments without an explicit keyword will result in an error or misinterpretation.\n",
            "  FutureWarning\n"
          ]
        },
        {
          "output_type": "display_data",
          "data": {
            "image/png": "[encoded data removed]",
            "text/plain": [
              "<Figure size 1296x576 with 2 Axes>"
            ]
          },
          "metadata": {
            "needs_background": "light"
          }
        }
      ]
    },
    {
      "cell_type": "code",
      "metadata": {
        "colab": {
          "base_uri": "https://localhost:8080/"
        },
        "id": "PnqfkeHfSzZ9",
        "outputId": "7f724120-ad6d-4292-e53c-6daa79ca7385"
      },
      "source": [
        "print(data[\"Outcome\"].value_counts()*100/len(data))\n",
        "\n"
      ],
      "execution_count": null,
      "outputs": [
        {
          "output_type": "stream",
          "name": "stdout",
          "text": [
            "0    65.104167\n",
            "1    34.895833\n",
            "Name: Outcome, dtype: float64\n"
          ]
        }
      ]
    },
    {
      "cell_type": "code",
      "metadata": {
        "colab": {
          "base_uri": "https://localhost:8080/",
          "height": 265
        },
        "id": "F-0bnX4VS0IR",
        "outputId": "2a0fd017-3caa-4049-de51-4f3a474b5746"
      },
      "source": [
        "data[\"Age\"].hist(edgecolor= \"black\")\n",
        "plt.show()\n"
      ],
      "execution_count": null,
      "outputs": [
        {
          "output_type": "display_data",
          "data": {
            "image/png": "[encoded data removed]",
            "text/plain": [
              "<Figure size 432x288 with 1 Axes>"
            ]
          },
          "metadata": {
            "needs_background": "light"
          }
        }
      ]
    },
    {
      "cell_type": "code",
      "metadata": {
        "colab": {
          "base_uri": "https://localhost:8080/",
          "height": 884
        },
        "id": "iB8EJD94R54Q",
        "outputId": "97d8141a-8566-4a5c-ad07-2a70cc73841e"
      },
      "source": [
        "def plot_corr(df,size=11): \n",
        "    \"\"\"\n",
        "    Function plots a graphical correlation matrix for each pair of columns in the dataframe.\n",
        "\n",
        "    Input:\n",
        "        df: pandas DataFrame\n",
        "        size: vertical and horizontal size of the plot\n",
        "\n",
        "    Displays:\n",
        "        matrix of correlation between columns.  Yellow means that they are highly correlated.\n",
        "                                           \n",
        "    \"\"\"\n",
        "    '''corr = df.corr() # calling the correlation function on the datafrmae\n",
        "    fig, ax = plt.subplots(figsize=(size,size))\n",
        "    ax.matshow(corr) # color code the rectangles by correlation value\n",
        "    plt.xticks(range(len(corr.columns)),corr.columns) # draw x tickmarks\n",
        "    plt.yticks(range(len(corr.columns)),corr.columns) # draw y tickmarks\n",
        "    '''\n",
        "    f, ax = plt.subplots(figsize= [20,15])\n",
        "    sns.heatmap(df.corr(), annot=True, fmt=\".2f\", ax=ax, cmap = \"magma\" )\n",
        "    ax.set_title(\"Correlation Matrix\", fontsize=20)\n",
        "\n",
        "plot_corr(data)"
      ],
      "execution_count": null,
      "outputs": [
        {
          "output_type": "display_data",
          "data": {
            "image/png": "[encoded data removed]",
            "text/plain": [
              "<Figure size 1440x1080 with 2 Axes>"
            ]
          },
          "metadata": {
            "needs_background": "light"
          }
        }
      ]
    },
    {
      "cell_type": "code",
      "metadata": {
        "id": "Qreyv9RdTSGB",
        "colab": {
          "base_uri": "https://localhost:8080/",
          "height": 424
        },
        "outputId": "baa49bf6-194b-45bc-a5c3-a168af42db81"
      },
      "source": [
        "'''\n",
        "  2 - preprocessing Data : \n",
        "    a - replace 0 in [\"Glucose\", \"BloodPressure\", \"SkinThickness\", \"Insulin\", \"BMI\"]\n",
        "'''\n",
        "data"
      ],
      "execution_count": null,
      "outputs": [
        {
          "output_type": "execute_result",
          "data": {
            "text/html": [
              "<div>\n",
              "<style scoped>\n",
              "    .dataframe tbody tr th:only-of-type {\n",
              "        vertical-align: middle;\n",
              "    }\n",
              "\n",
              "    .dataframe tbody tr th {\n",
              "        vertical-align: top;\n",
              "    }\n",
              "\n",
              "    .dataframe thead th {\n",
              "        text-align: right;\n",
              "    }\n",
              "</style>\n",
              "<table border=\"1\" class=\"dataframe\">\n",
              "  <thead>\n",
              "    <tr style=\"text-align: right;\">\n",
              "      <th></th>\n",
              "      <th>Pregnancies</th>\n",
              "      <th>Glucose</th>\n",
              "      <th>BloodPressure</th>\n",
              "      <th>SkinThickness</th>\n",
              "      <th>Insulin</th>\n",
              "      <th>BMI</th>\n",
              "      <th>DiabetesPedigreeFunction</th>\n",
              "      <th>Age</th>\n",
              "      <th>Outcome</th>\n",
              "    </tr>\n",
              "  </thead>\n",
              "  <tbody>\n",
              "    <tr>\n",
              "      <th>0</th>\n",
              "      <td>4</td>\n",
              "      <td>129</td>\n",
              "      <td>70</td>\n",
              "      <td>18</td>\n",
              "      <td>122</td>\n",
              "      <td>29.43</td>\n",
              "      <td>1.17</td>\n",
              "      <td>45</td>\n",
              "      <td>1</td>\n",
              "    </tr>\n",
              "    <tr>\n",
              "      <th>1</th>\n",
              "      <td>1</td>\n",
              "      <td>205</td>\n",
              "      <td>76</td>\n",
              "      <td>36</td>\n",
              "      <td>249</td>\n",
              "      <td>37.28</td>\n",
              "      <td>0.92</td>\n",
              "      <td>29</td>\n",
              "      <td>1</td>\n",
              "    </tr>\n",
              "    <tr>\n",
              "      <th>2</th>\n",
              "      <td>8</td>\n",
              "      <td>97</td>\n",
              "      <td>82</td>\n",
              "      <td>0</td>\n",
              "      <td>0</td>\n",
              "      <td>37.82</td>\n",
              "      <td>0.59</td>\n",
              "      <td>68</td>\n",
              "      <td>0</td>\n",
              "    </tr>\n",
              "    <tr>\n",
              "      <th>3</th>\n",
              "      <td>7</td>\n",
              "      <td>141</td>\n",
              "      <td>90</td>\n",
              "      <td>41</td>\n",
              "      <td>0</td>\n",
              "      <td>34.25</td>\n",
              "      <td>0.40</td>\n",
              "      <td>39</td>\n",
              "      <td>0</td>\n",
              "    </tr>\n",
              "    <tr>\n",
              "      <th>4</th>\n",
              "      <td>4</td>\n",
              "      <td>120</td>\n",
              "      <td>72</td>\n",
              "      <td>0</td>\n",
              "      <td>0</td>\n",
              "      <td>29.12</td>\n",
              "      <td>0.39</td>\n",
              "      <td>46</td>\n",
              "      <td>1</td>\n",
              "    </tr>\n",
              "    <tr>\n",
              "      <th>...</th>\n",
              "      <td>...</td>\n",
              "      <td>...</td>\n",
              "      <td>...</td>\n",
              "      <td>...</td>\n",
              "      <td>...</td>\n",
              "      <td>...</td>\n",
              "      <td>...</td>\n",
              "      <td>...</td>\n",
              "      <td>...</td>\n",
              "    </tr>\n",
              "    <tr>\n",
              "      <th>77563</th>\n",
              "      <td>3</td>\n",
              "      <td>91</td>\n",
              "      <td>58</td>\n",
              "      <td>11</td>\n",
              "      <td>54</td>\n",
              "      <td>26.26</td>\n",
              "      <td>0.27</td>\n",
              "      <td>22</td>\n",
              "      <td>0</td>\n",
              "    </tr>\n",
              "    <tr>\n",
              "      <th>77564</th>\n",
              "      <td>2</td>\n",
              "      <td>112</td>\n",
              "      <td>62</td>\n",
              "      <td>32</td>\n",
              "      <td>56</td>\n",
              "      <td>26.40</td>\n",
              "      <td>0.13</td>\n",
              "      <td>21</td>\n",
              "      <td>0</td>\n",
              "    </tr>\n",
              "    <tr>\n",
              "      <th>77565</th>\n",
              "      <td>4</td>\n",
              "      <td>128</td>\n",
              "      <td>68</td>\n",
              "      <td>0</td>\n",
              "      <td>0</td>\n",
              "      <td>36.47</td>\n",
              "      <td>0.40</td>\n",
              "      <td>29</td>\n",
              "      <td>0</td>\n",
              "    </tr>\n",
              "    <tr>\n",
              "      <th>77566</th>\n",
              "      <td>1</td>\n",
              "      <td>101</td>\n",
              "      <td>68</td>\n",
              "      <td>21</td>\n",
              "      <td>0</td>\n",
              "      <td>28.56</td>\n",
              "      <td>1.11</td>\n",
              "      <td>22</td>\n",
              "      <td>0</td>\n",
              "    </tr>\n",
              "    <tr>\n",
              "      <th>77567</th>\n",
              "      <td>9</td>\n",
              "      <td>169</td>\n",
              "      <td>88</td>\n",
              "      <td>0</td>\n",
              "      <td>0</td>\n",
              "      <td>31.13</td>\n",
              "      <td>0.32</td>\n",
              "      <td>49</td>\n",
              "      <td>1</td>\n",
              "    </tr>\n",
              "  </tbody>\n",
              "</table>\n",
              "<p>77568 rows × 9 columns</p>\n",
              "</div>"
            ],
            "text/plain": [
              "       Pregnancies  Glucose  ...  Age  Outcome\n",
              "0                4      129  ...   45        1\n",
              "1                1      205  ...   29        1\n",
              "2                8       97  ...   68        0\n",
              "3                7      141  ...   39        0\n",
              "4                4      120  ...   46        1\n",
              "...            ...      ...  ...  ...      ...\n",
              "77563            3       91  ...   22        0\n",
              "77564            2      112  ...   21        0\n",
              "77565            4      128  ...   29        0\n",
              "77566            1      101  ...   22        0\n",
              "77567            9      169  ...   49        1\n",
              "\n",
              "[77568 rows x 9 columns]"
            ]
          },
          "metadata": {},
          "execution_count": 718
        }
      ]
    },
    {
      "cell_type": "code",
      "metadata": {
        "colab": {
          "base_uri": "https://localhost:8080/",
          "height": 424
        },
        "id": "WC5QAx-OTkm2",
        "outputId": "1f467585-a637-4d5e-b156-464fb87aa98b"
      },
      "source": [
        "replace_list_column = [\"Glucose\", \"BloodPressure\", \"SkinThickness\", \"Insulin\", \"BMI\"]\n",
        "\n",
        "data_new = data\n",
        "data_new[replace_list_column] = data[replace_list_column].replace(0, np.NaN)\n",
        "\n",
        "#for i in data.index:\n",
        "#print(data.loc[data['Insulin'].isin([0,2,4])])\n",
        "import random\n",
        "\n",
        "max_Insulin = data['Insulin'].max()\n",
        "min_Insulin = data['Insulin'].min()\n",
        "\n",
        "data_new.Insulin = data_new['Insulin'].mask(data_new['Insulin'].isnull(), np.random.uniform(min_Insulin, max_Insulin, size=data_new['Insulin'].shape))\n",
        "\n",
        "data_new = data_new.dropna(axis=0, how='any')\n",
        "\n",
        "data_new"
      ],
      "execution_count": 741,
      "outputs": [
        {
          "output_type": "execute_result",
          "data": {
            "text/html": [
              "<div>\n",
              "<style scoped>\n",
              "    .dataframe tbody tr th:only-of-type {\n",
              "        vertical-align: middle;\n",
              "    }\n",
              "\n",
              "    .dataframe tbody tr th {\n",
              "        vertical-align: top;\n",
              "    }\n",
              "\n",
              "    .dataframe thead th {\n",
              "        text-align: right;\n",
              "    }\n",
              "</style>\n",
              "<table border=\"1\" class=\"dataframe\">\n",
              "  <thead>\n",
              "    <tr style=\"text-align: right;\">\n",
              "      <th></th>\n",
              "      <th>Pregnancies</th>\n",
              "      <th>Glucose</th>\n",
              "      <th>BloodPressure</th>\n",
              "      <th>SkinThickness</th>\n",
              "      <th>Insulin</th>\n",
              "      <th>BMI</th>\n",
              "      <th>DiabetesPedigreeFunction</th>\n",
              "      <th>Age</th>\n",
              "      <th>Outcome</th>\n",
              "    </tr>\n",
              "  </thead>\n",
              "  <tbody>\n",
              "    <tr>\n",
              "      <th>0</th>\n",
              "      <td>4</td>\n",
              "      <td>129.0</td>\n",
              "      <td>70.0</td>\n",
              "      <td>18.0</td>\n",
              "      <td>122.000000</td>\n",
              "      <td>29.43</td>\n",
              "      <td>1.17</td>\n",
              "      <td>45</td>\n",
              "      <td>1</td>\n",
              "    </tr>\n",
              "    <tr>\n",
              "      <th>1</th>\n",
              "      <td>1</td>\n",
              "      <td>205.0</td>\n",
              "      <td>76.0</td>\n",
              "      <td>36.0</td>\n",
              "      <td>249.000000</td>\n",
              "      <td>37.28</td>\n",
              "      <td>0.92</td>\n",
              "      <td>29</td>\n",
              "      <td>1</td>\n",
              "    </tr>\n",
              "    <tr>\n",
              "      <th>3</th>\n",
              "      <td>7</td>\n",
              "      <td>141.0</td>\n",
              "      <td>90.0</td>\n",
              "      <td>41.0</td>\n",
              "      <td>340.608587</td>\n",
              "      <td>34.25</td>\n",
              "      <td>0.40</td>\n",
              "      <td>39</td>\n",
              "      <td>0</td>\n",
              "    </tr>\n",
              "    <tr>\n",
              "      <th>5</th>\n",
              "      <td>5</td>\n",
              "      <td>80.0</td>\n",
              "      <td>82.0</td>\n",
              "      <td>41.0</td>\n",
              "      <td>42.000000</td>\n",
              "      <td>36.74</td>\n",
              "      <td>0.16</td>\n",
              "      <td>35</td>\n",
              "      <td>0</td>\n",
              "    </tr>\n",
              "    <tr>\n",
              "      <th>6</th>\n",
              "      <td>1</td>\n",
              "      <td>90.0</td>\n",
              "      <td>66.0</td>\n",
              "      <td>23.0</td>\n",
              "      <td>94.000000</td>\n",
              "      <td>29.59</td>\n",
              "      <td>0.17</td>\n",
              "      <td>21</td>\n",
              "      <td>0</td>\n",
              "    </tr>\n",
              "    <tr>\n",
              "      <th>...</th>\n",
              "      <td>...</td>\n",
              "      <td>...</td>\n",
              "      <td>...</td>\n",
              "      <td>...</td>\n",
              "      <td>...</td>\n",
              "      <td>...</td>\n",
              "      <td>...</td>\n",
              "      <td>...</td>\n",
              "      <td>...</td>\n",
              "    </tr>\n",
              "    <tr>\n",
              "      <th>77561</th>\n",
              "      <td>0</td>\n",
              "      <td>196.0</td>\n",
              "      <td>82.0</td>\n",
              "      <td>14.0</td>\n",
              "      <td>185.000000</td>\n",
              "      <td>32.20</td>\n",
              "      <td>0.72</td>\n",
              "      <td>22</td>\n",
              "      <td>1</td>\n",
              "    </tr>\n",
              "    <tr>\n",
              "      <th>77562</th>\n",
              "      <td>2</td>\n",
              "      <td>75.0</td>\n",
              "      <td>70.0</td>\n",
              "      <td>27.0</td>\n",
              "      <td>765.327428</td>\n",
              "      <td>30.10</td>\n",
              "      <td>0.62</td>\n",
              "      <td>22</td>\n",
              "      <td>0</td>\n",
              "    </tr>\n",
              "    <tr>\n",
              "      <th>77563</th>\n",
              "      <td>3</td>\n",
              "      <td>91.0</td>\n",
              "      <td>58.0</td>\n",
              "      <td>11.0</td>\n",
              "      <td>54.000000</td>\n",
              "      <td>26.26</td>\n",
              "      <td>0.27</td>\n",
              "      <td>22</td>\n",
              "      <td>0</td>\n",
              "    </tr>\n",
              "    <tr>\n",
              "      <th>77564</th>\n",
              "      <td>2</td>\n",
              "      <td>112.0</td>\n",
              "      <td>62.0</td>\n",
              "      <td>32.0</td>\n",
              "      <td>56.000000</td>\n",
              "      <td>26.40</td>\n",
              "      <td>0.13</td>\n",
              "      <td>21</td>\n",
              "      <td>0</td>\n",
              "    </tr>\n",
              "    <tr>\n",
              "      <th>77566</th>\n",
              "      <td>1</td>\n",
              "      <td>101.0</td>\n",
              "      <td>68.0</td>\n",
              "      <td>21.0</td>\n",
              "      <td>675.452049</td>\n",
              "      <td>28.56</td>\n",
              "      <td>1.11</td>\n",
              "      <td>22</td>\n",
              "      <td>0</td>\n",
              "    </tr>\n",
              "  </tbody>\n",
              "</table>\n",
              "<p>53732 rows × 9 columns</p>\n",
              "</div>"
            ],
            "text/plain": [
              "       Pregnancies  Glucose  ...  Age  Outcome\n",
              "0                4    129.0  ...   45        1\n",
              "1                1    205.0  ...   29        1\n",
              "3                7    141.0  ...   39        0\n",
              "5                5     80.0  ...   35        0\n",
              "6                1     90.0  ...   21        0\n",
              "...            ...      ...  ...  ...      ...\n",
              "77561            0    196.0  ...   22        1\n",
              "77562            2     75.0  ...   22        0\n",
              "77563            3     91.0  ...   22        0\n",
              "77564            2    112.0  ...   21        0\n",
              "77566            1    101.0  ...   22        0\n",
              "\n",
              "[53732 rows x 9 columns]"
            ]
          },
          "metadata": {},
          "execution_count": 741
        }
      ]
    },
    {
      "cell_type": "code",
      "metadata": {
        "colab": {
          "base_uri": "https://localhost:8080/",
          "height": 568
        },
        "id": "kUoNClFS3AUS",
        "outputId": "8d1a8448-ab98-4b42-ee0f-7c554d774d42"
      },
      "source": [
        "f,ax=plt.subplots(1,2,figsize=(18,8))\n",
        "data_new['Outcome'].value_counts().plot.pie(explode=[0,0.1],autopct='%1.1f%%',ax=ax[0],shadow=True)\n",
        "ax[0].set_title('target')\n",
        "ax[0].set_ylabel('')\n",
        "sns.countplot('Outcome',data=data,ax=ax[1])\n",
        "ax[1].set_title('Outcome')\n",
        "plt.show()"
      ],
      "execution_count": 742,
      "outputs": [
        {
          "output_type": "stream",
          "name": "stderr",
          "text": [
            "/usr/local/lib/python3.7/dist-packages/seaborn/_decorators.py:43: FutureWarning: Pass the following variable as a keyword arg: x. From version 0.12, the only valid positional argument will be `data`, and passing other arguments without an explicit keyword will result in an error or misinterpretation.\n",
            "  FutureWarning\n"
          ]
        },
        {
          "output_type": "display_data",
          "data": {
            "image/png": "[encoded data removed]",
            "text/plain": [
              "<Figure size 1296x576 with 2 Axes>"
            ]
          },
          "metadata": {
            "needs_background": "light"
          }
        }
      ]
    },
    {
      "cell_type": "code",
      "metadata": {
        "colab": {
          "base_uri": "https://localhost:8080/",
          "height": 627
        },
        "id": "f0JMWmUo3RqL",
        "outputId": "42f6ed32-a9b0-4f50-e4c0-6d5e7ac4a3a2"
      },
      "source": [
        "# Histogram of each feature\n",
        "import itertools\n",
        "\n",
        "col = data_new.columns[:8]\n",
        "plt.subplots(figsize = (20, 15))\n",
        "length = len(col)\n",
        "\n",
        "for i, j in itertools.zip_longest(col, range(length)):\n",
        "    plt.subplot((length/2), 3, j + 1)\n",
        "    plt.subplots_adjust(wspace = 0.1,hspace = 0.5)\n",
        "    data_new[i].hist(bins = 20)\n",
        "    plt.title(i)\n",
        "plt.show()"
      ],
      "execution_count": 743,
      "outputs": [
        {
          "output_type": "display_data",
          "data": {
            "image/png": "[encoded data removed]",
            "text/plain": [
              "<Figure size 1440x1080 with 8 Axes>"
            ]
          },
          "metadata": {
            "needs_background": "light"
          }
        }
      ]
    },
    {
      "cell_type": "code",
      "metadata": {
        "id": "j7d1qRGR3rVN"
      },
      "source": [
        "# Feature scaling using MinMaxScaler\n",
        "from sklearn.preprocessing import MinMaxScaler\n",
        "sc = MinMaxScaler(feature_range = (0, 1))\n",
        "dataset_scaled = sc.fit_transform(data_new)"
      ],
      "execution_count": 745,
      "outputs": []
    },
    {
      "cell_type": "code",
      "metadata": {
        "colab": {
          "base_uri": "https://localhost:8080/",
          "height": 424
        },
        "id": "cO7fMoMc3tS4",
        "outputId": "6e250340-4262-417d-cf25-3d586b3c53c9"
      },
      "source": [
        "dataset_scaled = pd.DataFrame(dataset_scaled)\n",
        "dataset_scaled"
      ],
      "execution_count": 749,
      "outputs": [
        {
          "output_type": "execute_result",
          "data": {
            "text/html": [
              "<div>\n",
              "<style scoped>\n",
              "    .dataframe tbody tr th:only-of-type {\n",
              "        vertical-align: middle;\n",
              "    }\n",
              "\n",
              "    .dataframe tbody tr th {\n",
              "        vertical-align: top;\n",
              "    }\n",
              "\n",
              "    .dataframe thead th {\n",
              "        text-align: right;\n",
              "    }\n",
              "</style>\n",
              "<table border=\"1\" class=\"dataframe\">\n",
              "  <thead>\n",
              "    <tr style=\"text-align: right;\">\n",
              "      <th></th>\n",
              "      <th>0</th>\n",
              "      <th>1</th>\n",
              "      <th>2</th>\n",
              "      <th>3</th>\n",
              "      <th>4</th>\n",
              "      <th>5</th>\n",
              "      <th>6</th>\n",
              "      <th>7</th>\n",
              "      <th>8</th>\n",
              "    </tr>\n",
              "  </thead>\n",
              "  <tbody>\n",
              "    <tr>\n",
              "      <th>0</th>\n",
              "      <td>0.222222</td>\n",
              "      <td>0.464968</td>\n",
              "      <td>0.534884</td>\n",
              "      <td>0.119565</td>\n",
              "      <td>0.129808</td>\n",
              "      <td>0.208272</td>\n",
              "      <td>0.431412</td>\n",
              "      <td>0.400000</td>\n",
              "      <td>1.0</td>\n",
              "    </tr>\n",
              "    <tr>\n",
              "      <th>1</th>\n",
              "      <td>0.055556</td>\n",
              "      <td>0.949045</td>\n",
              "      <td>0.604651</td>\n",
              "      <td>0.315217</td>\n",
              "      <td>0.282452</td>\n",
              "      <td>0.353858</td>\n",
              "      <td>0.332008</td>\n",
              "      <td>0.133333</td>\n",
              "      <td>1.0</td>\n",
              "    </tr>\n",
              "    <tr>\n",
              "      <th>2</th>\n",
              "      <td>0.388889</td>\n",
              "      <td>0.541401</td>\n",
              "      <td>0.767442</td>\n",
              "      <td>0.369565</td>\n",
              "      <td>0.392558</td>\n",
              "      <td>0.297663</td>\n",
              "      <td>0.125249</td>\n",
              "      <td>0.300000</td>\n",
              "      <td>0.0</td>\n",
              "    </tr>\n",
              "    <tr>\n",
              "      <th>3</th>\n",
              "      <td>0.277778</td>\n",
              "      <td>0.152866</td>\n",
              "      <td>0.674419</td>\n",
              "      <td>0.369565</td>\n",
              "      <td>0.033654</td>\n",
              "      <td>0.343843</td>\n",
              "      <td>0.029821</td>\n",
              "      <td>0.233333</td>\n",
              "      <td>0.0</td>\n",
              "    </tr>\n",
              "    <tr>\n",
              "      <th>4</th>\n",
              "      <td>0.055556</td>\n",
              "      <td>0.216561</td>\n",
              "      <td>0.488372</td>\n",
              "      <td>0.173913</td>\n",
              "      <td>0.096154</td>\n",
              "      <td>0.211239</td>\n",
              "      <td>0.033797</td>\n",
              "      <td>0.000000</td>\n",
              "      <td>0.0</td>\n",
              "    </tr>\n",
              "    <tr>\n",
              "      <th>...</th>\n",
              "      <td>...</td>\n",
              "      <td>...</td>\n",
              "      <td>...</td>\n",
              "      <td>...</td>\n",
              "      <td>...</td>\n",
              "      <td>...</td>\n",
              "      <td>...</td>\n",
              "      <td>...</td>\n",
              "      <td>...</td>\n",
              "    </tr>\n",
              "    <tr>\n",
              "      <th>53727</th>\n",
              "      <td>0.000000</td>\n",
              "      <td>0.891720</td>\n",
              "      <td>0.674419</td>\n",
              "      <td>0.076087</td>\n",
              "      <td>0.205529</td>\n",
              "      <td>0.259644</td>\n",
              "      <td>0.252485</td>\n",
              "      <td>0.016667</td>\n",
              "      <td>1.0</td>\n",
              "    </tr>\n",
              "    <tr>\n",
              "      <th>53728</th>\n",
              "      <td>0.111111</td>\n",
              "      <td>0.121019</td>\n",
              "      <td>0.534884</td>\n",
              "      <td>0.217391</td>\n",
              "      <td>0.903038</td>\n",
              "      <td>0.220697</td>\n",
              "      <td>0.212724</td>\n",
              "      <td>0.016667</td>\n",
              "      <td>0.0</td>\n",
              "    </tr>\n",
              "    <tr>\n",
              "      <th>53729</th>\n",
              "      <td>0.166667</td>\n",
              "      <td>0.222930</td>\n",
              "      <td>0.395349</td>\n",
              "      <td>0.043478</td>\n",
              "      <td>0.048077</td>\n",
              "      <td>0.149481</td>\n",
              "      <td>0.073559</td>\n",
              "      <td>0.016667</td>\n",
              "      <td>0.0</td>\n",
              "    </tr>\n",
              "    <tr>\n",
              "      <th>53730</th>\n",
              "      <td>0.111111</td>\n",
              "      <td>0.356688</td>\n",
              "      <td>0.441860</td>\n",
              "      <td>0.271739</td>\n",
              "      <td>0.050481</td>\n",
              "      <td>0.152077</td>\n",
              "      <td>0.017893</td>\n",
              "      <td>0.000000</td>\n",
              "      <td>0.0</td>\n",
              "    </tr>\n",
              "    <tr>\n",
              "      <th>53731</th>\n",
              "      <td>0.055556</td>\n",
              "      <td>0.286624</td>\n",
              "      <td>0.511628</td>\n",
              "      <td>0.152174</td>\n",
              "      <td>0.795014</td>\n",
              "      <td>0.192136</td>\n",
              "      <td>0.407555</td>\n",
              "      <td>0.016667</td>\n",
              "      <td>0.0</td>\n",
              "    </tr>\n",
              "  </tbody>\n",
              "</table>\n",
              "<p>53732 rows × 9 columns</p>\n",
              "</div>"
            ],
            "text/plain": [
              "              0         1         2  ...         6         7    8\n",
              "0      0.222222  0.464968  0.534884  ...  0.431412  0.400000  1.0\n",
              "1      0.055556  0.949045  0.604651  ...  0.332008  0.133333  1.0\n",
              "2      0.388889  0.541401  0.767442  ...  0.125249  0.300000  0.0\n",
              "3      0.277778  0.152866  0.674419  ...  0.029821  0.233333  0.0\n",
              "4      0.055556  0.216561  0.488372  ...  0.033797  0.000000  0.0\n",
              "...         ...       ...       ...  ...       ...       ...  ...\n",
              "53727  0.000000  0.891720  0.674419  ...  0.252485  0.016667  1.0\n",
              "53728  0.111111  0.121019  0.534884  ...  0.212724  0.016667  0.0\n",
              "53729  0.166667  0.222930  0.395349  ...  0.073559  0.016667  0.0\n",
              "53730  0.111111  0.356688  0.441860  ...  0.017893  0.000000  0.0\n",
              "53731  0.055556  0.286624  0.511628  ...  0.407555  0.016667  0.0\n",
              "\n",
              "[53732 rows x 9 columns]"
            ]
          },
          "metadata": {},
          "execution_count": 749
        }
      ]
    },
    {
      "cell_type": "code",
      "metadata": {
        "id": "MNcUe3o_37QZ"
      },
      "source": [
        "# Selecting features - [Glucose, Insulin, BMI, Age]\n",
        "X = dataset_scaled.iloc[:, [1, 4, 5, 7]].values\n",
        "Y = dataset_scaled.iloc[:, 8].values"
      ],
      "execution_count": 750,
      "outputs": []
    },
    {
      "cell_type": "code",
      "metadata": {
        "id": "WvVsBgWr39mG"
      },
      "source": [
        "# Splitting X and Y\n",
        "from sklearn.model_selection import train_test_split\n",
        "X_train, X_test, Y_train, Y_test = train_test_split(X, Y, test_size = 0.20, random_state = 42, stratify = data_new['Outcome'] )"
      ],
      "execution_count": 752,
      "outputs": []
    },
    {
      "cell_type": "code",
      "metadata": {
        "colab": {
          "base_uri": "https://localhost:8080/"
        },
        "id": "M54EXdrV4Din",
        "outputId": "49ed6c24-c120-4836-d065-66e3af52516e"
      },
      "source": [
        "# Checking dimensions\n",
        "print(\"X_train shape:\", X_train.shape)\n",
        "print(\"X_test shape:\", X_test.shape)\n",
        "print(\"Y_train shape:\", Y_train.shape)\n",
        "print(\"Y_test shape:\", Y_test.shape)"
      ],
      "execution_count": 753,
      "outputs": [
        {
          "output_type": "stream",
          "name": "stdout",
          "text": [
            "X_train shape: (42985, 4)\n",
            "X_test shape: (10747, 4)\n",
            "Y_train shape: (42985,)\n",
            "Y_test shape: (10747,)\n"
          ]
        }
      ]
    },
    {
      "cell_type": "markdown",
      "metadata": {
        "id": "dKjfNSmA4X7Z"
      },
      "source": [
        "DATA MODELLING\n"
      ]
    },
    {
      "cell_type": "code",
      "metadata": {
        "colab": {
          "base_uri": "https://localhost:8080/",
          "height": 1000
        },
        "id": "bfVm7DLT4jmJ",
        "outputId": "3d4dda67-4b19-4f94-b0d6-320c54ca6bc1"
      },
      "source": [
        "# Plotting a graph for n_neighbors \n",
        "from sklearn import metrics\n",
        "from sklearn.neighbors import KNeighborsClassifier\n",
        "\n",
        "X_axis = list(range(5, 100, 2))\n",
        "acc = pd.Series()\n",
        "x = range(5, 100, 2)\n",
        "\n",
        "for i in list(range(5, 100, 2)):\n",
        "    knn_model = KNeighborsClassifier(n_neighbors = i) \n",
        "    knn_model.fit(X_train, Y_train)\n",
        "    prediction = knn_model.predict(X_test)\n",
        "    print(metrics.accuracy_score(prediction, Y_test))\n",
        "    acc = acc.append(pd.Series(metrics.accuracy_score(prediction, Y_test)))\n",
        "plt.plot(X_axis, acc)\n",
        "plt.xticks(x)\n",
        "plt.title(\"Finding best value for n_estimators\")\n",
        "plt.xlabel(\"n_estimators\")\n",
        "plt.ylabel(\"Accuracy\")\n",
        "plt.grid()\n",
        "plt.show()\n",
        "print('Highest value: ',acc.values.max())"
      ],
      "execution_count": 765,
      "outputs": [
        {
          "output_type": "stream",
          "name": "stderr",
          "text": [
            "/usr/local/lib/python3.7/dist-packages/ipykernel_launcher.py:6: DeprecationWarning: The default dtype for empty Series will be 'object' instead of 'float64' in a future version. Specify a dtype explicitly to silence this warning.\n",
            "  \n"
          ]
        },
        {
          "output_type": "stream",
          "name": "stdout",
          "text": [
            "0.9899506839117893\n",
            "0.9888340932353215\n",
            "0.9872522564436587\n",
            "0.9853912719828789\n",
            "0.9836233367451381\n",
            "0.9814832046152414\n",
            "0.9787847771471109\n",
            "0.9762724481250582\n",
            "0.9744114636642784\n",
            "0.9723643807574207\n",
            "0.9692007071740951\n",
            "0.9674327719363544\n",
            "0.9668744765981204\n",
            "0.9653856890294966\n",
            "0.9645482460221457\n",
            "0.962873360007444\n",
            "0.9614776216618591\n",
            "0.9611054247697032\n",
            "0.9602679817623523\n",
            "0.9582208988554946\n",
            "0.9571973574020657\n",
            "0.9557085698334419\n",
            "0.954778077603052\n",
            "0.9535684377035452\n",
            "0.9521726993579603\n",
            "0.9516144040197264\n",
            "0.9509630594584535\n",
            "0.9505908625662975\n",
            "0.9495673211128687\n",
            "0.9489159765515958\n",
            "0.9482646319903228\n",
            "0.947148041313855\n",
            "0.94668279519866\n",
            "0.9460314506373871\n",
            "0.9448218107378803\n",
            "0.9444496138457243\n",
            "0.9445426630687633\n",
            "0.9440774169535684\n",
            "0.9436121708383735\n",
            "0.9435191216153345\n",
            "0.9433330231692565\n",
            "0.9431469247231785\n",
            "0.9428677770540616\n",
            "0.9427747278310226\n",
            "0.9419372848236717\n",
            "0.9419372848236717\n",
            "0.9412859402623988\n",
            "0.9410067925932818\n"
          ]
        },
        {
          "output_type": "display_data",
          "data": {
            "image/png": "[encoded data removed]",
            "text/plain": [
              "<Figure size 432x288 with 1 Axes>"
            ]
          },
          "metadata": {
            "needs_background": "light"
          }
        },
        {
          "output_type": "stream",
          "name": "stdout",
          "text": [
            "Highest value:  0.9899506839117893\n"
          ]
        }
      ]
    }
  ]
}